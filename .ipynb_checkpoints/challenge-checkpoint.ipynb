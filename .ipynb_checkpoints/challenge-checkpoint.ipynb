{
 "cells": [
  {
   "cell_type": "markdown",
   "metadata": {},
   "source": [
    "### Question 2: \n",
    "\n",
    "For this question you’ll need to use SQL. Follow this link to access the data set required for the challenge. Please use queries to answer the following questions. Paste your queries along with your final numerical answers below.\n"
   ]
  },
  {
   "cell_type": "raw",
   "metadata": {},
   "source": [
    "How many orders were shipped by Speedy Express in total?\n",
    "\n",
    "Queries:\n",
    "SELECT COUNT (DISTINCT orderid) as Num_Order\n",
    "\t   FROM orders \n",
    "       JOIN shippers using(shipperid) \n",
    "       WHERE shippername = 'Speedy Express';\n",
    "\n",
    "Answer: 54"
   ]
  },
  {
   "cell_type": "raw",
   "metadata": {},
   "source": [
    "### What is the last name of the employee with the most orders?\n",
    "\n",
    "Queries:\n",
    "\n",
    "SELECT \n",
    "\ts.LastName,\n",
    "    MAX (s.Num_Orders) as Most_Order\n",
    "FROM\n",
    "\t(SELECT \n",
    "        e.lastname as LastName,\n",
    "        COUNT(DISTINCT o.orderid) as Num_Orders\n",
    "    FROM Orders o\n",
    "    LEFT JOIN Employees e ON o.employeeid = e.employeeid\n",
    "    GROUP by o.employeeid) s\n",
    "\n",
    "Answer:Peacock 40"
   ]
  },
  {
   "cell_type": "raw",
   "metadata": {},
   "source": [
    "### What product was ordered the most by customers in Germany?\n",
    "\n",
    "Queries:\n",
    "\n",
    "SELECT \n",
    "\tc.productname,\n",
    "    MAX (Num_Products) as max_product\n",
    "FROM\n",
    "(SELECT \n",
    "\tp.productname,\n",
    "\tCOUNT(p.productid) as num_products\n",
    "FROM Orders o\n",
    "LEFT JOIN Customers c using(customerid)\n",
    "LEFT JOIN OrderDetails od using(orderid)\n",
    "LEFT JOIN Products p using(productid)\n",
    "WHERE Country = 'Germany'\n",
    "GROUP BY p.productname) c\n",
    "\n",
    "Answer:\n",
    "Gorgonzola Telino\t5"
   ]
  }
 ],
 "metadata": {
  "kernelspec": {
   "display_name": "Python [conda env:.conda-learn-env] *",
   "language": "python",
   "name": "conda-env-.conda-learn-env-py"
  },
  "language_info": {
   "codemirror_mode": {
    "name": "ipython",
    "version": 3
   },
   "file_extension": ".py",
   "mimetype": "text/x-python",
   "name": "python",
   "nbconvert_exporter": "python",
   "pygments_lexer": "ipython3",
   "version": "3.6.9"
  }
 },
 "nbformat": 4,
 "nbformat_minor": 2
}
