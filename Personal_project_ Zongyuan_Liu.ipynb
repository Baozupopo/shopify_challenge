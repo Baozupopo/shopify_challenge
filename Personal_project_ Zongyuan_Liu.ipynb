{
 "cells": [
  {
   "cell_type": "markdown",
   "metadata": {},
   "source": [
    "# Better Data Project\n",
    "Created by Yiyi Wang , Aug 2020\n",
    "***\n",
    "## Agenda: <a id='agenda'></a>\n",
    "### 1. <a href='#connect'>Connect to Postgres database</a>\n",
    "### 2.  <a href='#data_prep'>Data Prep</a>\n",
    "### 3.  <a href='#eda'>Exploratory Data Analysis</a>\n",
    "- **3. a :**  <a href='#3a'>How has the loan interest rate varied over time? </a>\n",
    "- **3. b :**  <a href='#3b'>How much does the interest rate differ between conforming and jumbo?</a>\n",
    "- **3. c :**  <a href='#3c'>Is there a difference between interest rates in different states? </a>"
   ]
  },
  {
   "cell_type": "markdown",
   "metadata": {},
   "source": [
    "### Quick Summary of `How has the loan interest rate varied over time?`\n",
    "> -  In the period of 2017~ 2019, **2018** had the *highest* avg.loan interest (4.43%), while **2017** had the *lowest* average interest rate (3.78%).\n",
    "-  From 2017 through 2019, we saw the highest avg.loan interest in Nov 2018 at around 4.7% and lowest interset in Nov 2019, about 3.4%. The loan interest rate increased consistently from Nov 2017 to Nov 2018 and declined since then.\n",
    "-  There is **NO** substantial seasonal change in the interest rate as we see different patterns every year."
   ]
  },
  {
   "cell_type": "markdown",
   "metadata": {},
   "source": [
    "### Quick Summary of `How much does the interest rate differ between conforming and jumbo?`\n",
    ">- On average, conforming loans has a higher interest rate (3.99% vs. 3.78%) than jumbo loans - a 5% difference.\n",
    "- 14 out of 17 states have a higher average interest rate of conforming loans than jumbo loans - approximately 5% diff. While WI, NJ, and DC saw a higher interest rate in Jumbo loans - around 5% diff. \n",
    "- We're 99% confident that there is a significant difference in the average interest rate between the two loan types. On the state level, we're 99% confident that there is a significant difference in the average interest rate between the two loan types in the states PA, TX, CA, and AZ."
   ]
  },
  {
   "cell_type": "markdown",
   "metadata": {},
   "source": [
    "### Quick Summary of `Is there a difference between interest rates in different states?`\n",
    ">- The average interest rate varies across states - MS has the highest avg.interest rate of 4.3%, and NM has the lowest avg. interest rate of 3.5%.\n",
    "- Every year, the average interest rate varies across states. We saw the smallest standard deviation in 2017, meaning - the lowest variance in the interest rate between states.\n",
    "- We saw an increasing number of pairs of states that show a significant difference in the interest rate from 2017 to 2019. Meaning, the difference between states has been increasing year over year.\n",
    "- We're 99% confident that there is NO significant difference in jumbo loan interest rates between states in 2017 and 2018."
   ]
  },
  {
   "cell_type": "markdown",
   "metadata": {},
   "source": [
    "## 1. Connect to Postgres database <a id='connect'></a>"
   ]
  },
  {
   "cell_type": "code",
   "execution_count": 56,
   "metadata": {
    "code_folding": []
   },
   "outputs": [],
   "source": [
    "# pip install psycopg2 for Postgres connection \n",
    "import psycopg2\n",
    "\n",
    "conn = psycopg2.connect(user = \"data_project\",\n",
    "                        password = \"g12HEYtTnFY0dZok2GCKJ8pdygCKQ8It\",\n",
    "                        host = \"data-project.better.engineering\",\n",
    "                        database = \"data_project\")"
   ]
  },
  {
   "cell_type": "markdown",
   "metadata": {},
   "source": [
    "<a href='#agenda'>Go back to agenda</a>"
   ]
  },
  {
   "cell_type": "markdown",
   "metadata": {},
   "source": [
    "## 2. Data Prep <a id='data_prep'></a>"
   ]
  },
  {
   "cell_type": "markdown",
   "metadata": {},
   "source": [
    "###  `2.1 Convert tables to pandas DataFrames`"
   ]
  },
  {
   "cell_type": "code",
   "execution_count": 2,
   "metadata": {},
   "outputs": [
    {
     "data": {
      "text/html": [
       "<div>\n",
       "<style scoped>\n",
       "    .dataframe tbody tr th:only-of-type {\n",
       "        vertical-align: middle;\n",
       "    }\n",
       "\n",
       "    .dataframe tbody tr th {\n",
       "        vertical-align: top;\n",
       "    }\n",
       "\n",
       "    .dataframe thead th {\n",
       "        text-align: right;\n",
       "    }\n",
       "</style>\n",
       "<table border=\"1\" class=\"dataframe\">\n",
       "  <thead>\n",
       "    <tr style=\"text-align: right;\">\n",
       "      <th></th>\n",
       "      <th>funded_at</th>\n",
       "      <th>loan_amount</th>\n",
       "      <th>rate</th>\n",
       "      <th>state</th>\n",
       "      <th>county_fips</th>\n",
       "    </tr>\n",
       "  </thead>\n",
       "  <tbody>\n",
       "    <tr>\n",
       "      <th>0</th>\n",
       "      <td>2017-05-26</td>\n",
       "      <td>162000.0</td>\n",
       "      <td>3.125</td>\n",
       "      <td>PA</td>\n",
       "      <td>42003</td>\n",
       "    </tr>\n",
       "    <tr>\n",
       "      <th>1</th>\n",
       "      <td>2019-07-22</td>\n",
       "      <td>210550.0</td>\n",
       "      <td>3.625</td>\n",
       "      <td>NC</td>\n",
       "      <td>37111</td>\n",
       "    </tr>\n",
       "  </tbody>\n",
       "</table>\n",
       "</div>"
      ],
      "text/plain": [
       "    funded_at  loan_amount   rate state county_fips\n",
       "0  2017-05-26     162000.0  3.125    PA       42003\n",
       "1  2019-07-22     210550.0  3.625    NC       37111"
      ]
     },
     "execution_count": 2,
     "metadata": {},
     "output_type": "execute_result"
    }
   ],
   "source": [
    "import pandas as pd\n",
    "import numpy as np\n",
    "from matplotlib import pyplot as plt \n",
    "%matplotlib inline \n",
    "\n",
    "\n",
    "loans = pd.read_sql_query(\n",
    "''' SELECT * FROM loans ''',conn) \n",
    "\n",
    "#convert loans table to pandas DataFrame\n",
    "loans = pd.DataFrame(loans, columns=['funded_at','loan_amount','rate','state','county_fips'])\n",
    "loans.head(2)"
   ]
  },
  {
   "cell_type": "code",
   "execution_count": 3,
   "metadata": {},
   "outputs": [
    {
     "data": {
      "text/html": [
       "<div>\n",
       "<style scoped>\n",
       "    .dataframe tbody tr th:only-of-type {\n",
       "        vertical-align: middle;\n",
       "    }\n",
       "\n",
       "    .dataframe tbody tr th {\n",
       "        vertical-align: top;\n",
       "    }\n",
       "\n",
       "    .dataframe thead th {\n",
       "        text-align: right;\n",
       "    }\n",
       "</style>\n",
       "<table border=\"1\" class=\"dataframe\">\n",
       "  <thead>\n",
       "    <tr style=\"text-align: right;\">\n",
       "      <th></th>\n",
       "      <th>state</th>\n",
       "      <th>fips</th>\n",
       "      <th>loan_limit</th>\n",
       "    </tr>\n",
       "  </thead>\n",
       "  <tbody>\n",
       "    <tr>\n",
       "      <th>0</th>\n",
       "      <td>AK</td>\n",
       "      <td>02020</td>\n",
       "      <td>726525</td>\n",
       "    </tr>\n",
       "    <tr>\n",
       "      <th>1</th>\n",
       "      <td>AK</td>\n",
       "      <td>02068</td>\n",
       "      <td>726525</td>\n",
       "    </tr>\n",
       "  </tbody>\n",
       "</table>\n",
       "</div>"
      ],
      "text/plain": [
       "  state   fips  loan_limit\n",
       "0    AK  02020      726525\n",
       "1    AK  02068      726525"
      ]
     },
     "execution_count": 3,
     "metadata": {},
     "output_type": "execute_result"
    }
   ],
   "source": [
    "counties = pd.read_sql_query(\n",
    "''' SELECT * FROM counties''',conn)\n",
    "\n",
    "#convert counties table to pandas DataFrame\n",
    "counties = pd.DataFrame(counties, columns=['state','fips','loan_limit'])\n",
    "counties.head(2)"
   ]
  },
  {
   "cell_type": "markdown",
   "metadata": {},
   "source": [
    "### `2.2 Check loans and counties DataFrame seperately.`"
   ]
  },
  {
   "cell_type": "code",
   "execution_count": 4,
   "metadata": {},
   "outputs": [
    {
     "name": "stdout",
     "output_type": "stream",
     "text": [
      "<class 'pandas.core.frame.DataFrame'>\n",
      "RangeIndex: 10000 entries, 0 to 9999\n",
      "Data columns (total 5 columns):\n",
      " #   Column       Non-Null Count  Dtype  \n",
      "---  ------       --------------  -----  \n",
      " 0   funded_at    10000 non-null  object \n",
      " 1   loan_amount  10000 non-null  float64\n",
      " 2   rate         10000 non-null  float64\n",
      " 3   state        10000 non-null  object \n",
      " 4   county_fips  10000 non-null  object \n",
      "dtypes: float64(2), object(3)\n",
      "memory usage: 390.8+ KB\n"
     ]
    }
   ],
   "source": [
    "loans.info()\n",
    "# no missing data, no null."
   ]
  },
  {
   "cell_type": "code",
   "execution_count": 5,
   "metadata": {},
   "outputs": [
    {
     "name": "stdout",
     "output_type": "stream",
     "text": [
      "<class 'pandas.core.frame.DataFrame'>\n",
      "RangeIndex: 2102 entries, 0 to 2101\n",
      "Data columns (total 3 columns):\n",
      " #   Column      Non-Null Count  Dtype \n",
      "---  ------      --------------  ----- \n",
      " 0   state       2102 non-null   object\n",
      " 1   fips        2102 non-null   object\n",
      " 2   loan_limit  2102 non-null   int64 \n",
      "dtypes: int64(1), object(2)\n",
      "memory usage: 49.4+ KB\n"
     ]
    }
   ],
   "source": [
    "counties.info()\n",
    "# no missing data, no null"
   ]
  },
  {
   "cell_type": "markdown",
   "metadata": {},
   "source": [
    "` **NOTE**: fips can be the same in different states`"
   ]
  },
  {
   "cell_type": "code",
   "execution_count": 6,
   "metadata": {},
   "outputs": [
    {
     "data": {
      "text/plain": [
       "fips\n",
       "06001    2\n",
       "48085    2\n",
       "13113    2\n",
       "34007    2\n",
       "12097    2\n",
       "28145    2\n",
       "06075    2\n",
       "53033    2\n",
       "12019    2\n",
       "19163    1\n",
       "dtype: int64"
      ]
     },
     "execution_count": 6,
     "metadata": {},
     "output_type": "execute_result"
    }
   ],
   "source": [
    "counties['fips'].value_counts()\n",
    "counties.loc[counties['fips'] == '06001']\n",
    "counties.groupby('fips').size().sort_values(ascending = False).head(10)\n",
    "\n",
    "#counties.loc[counties['fips'] == '48085']"
   ]
  },
  {
   "cell_type": "markdown",
   "metadata": {},
   "source": [
    "### `2.3 Merge two DataFrames`"
   ]
  },
  {
   "cell_type": "code",
   "execution_count": 7,
   "metadata": {
    "scrolled": true
   },
   "outputs": [
    {
     "name": "stdout",
     "output_type": "stream",
     "text": [
      "<class 'pandas.core.frame.DataFrame'>\n",
      "Int64Index: 10000 entries, 0 to 9999\n",
      "Data columns (total 7 columns):\n",
      " #   Column       Non-Null Count  Dtype  \n",
      "---  ------       --------------  -----  \n",
      " 0   funded_at    10000 non-null  object \n",
      " 1   loan_amount  10000 non-null  float64\n",
      " 2   rate         10000 non-null  float64\n",
      " 3   state        10000 non-null  object \n",
      " 4   county_fips  10000 non-null  object \n",
      " 5   fips         9999 non-null   object \n",
      " 6   loan_limit   9999 non-null   float64\n",
      "dtypes: float64(3), object(4)\n",
      "memory usage: 625.0+ KB\n"
     ]
    }
   ],
   "source": [
    "df = loans.merge(counties,how = 'left',left_on = ['county_fips','state']\n",
    "                 ,right_on = ['fips','state'])\n",
    "df.info()"
   ]
  },
  {
   "cell_type": "code",
   "execution_count": 8,
   "metadata": {},
   "outputs": [
    {
     "data": {
      "text/html": [
       "<div>\n",
       "<style scoped>\n",
       "    .dataframe tbody tr th:only-of-type {\n",
       "        vertical-align: middle;\n",
       "    }\n",
       "\n",
       "    .dataframe tbody tr th {\n",
       "        vertical-align: top;\n",
       "    }\n",
       "\n",
       "    .dataframe thead th {\n",
       "        text-align: right;\n",
       "    }\n",
       "</style>\n",
       "<table border=\"1\" class=\"dataframe\">\n",
       "  <thead>\n",
       "    <tr style=\"text-align: right;\">\n",
       "      <th></th>\n",
       "      <th>funded_at</th>\n",
       "      <th>loan_amount</th>\n",
       "      <th>rate</th>\n",
       "      <th>state</th>\n",
       "      <th>county_fips</th>\n",
       "      <th>fips</th>\n",
       "      <th>loan_limit</th>\n",
       "    </tr>\n",
       "  </thead>\n",
       "  <tbody>\n",
       "    <tr>\n",
       "      <th>0</th>\n",
       "      <td>2017-05-26</td>\n",
       "      <td>162000.0</td>\n",
       "      <td>3.125</td>\n",
       "      <td>PA</td>\n",
       "      <td>42003</td>\n",
       "      <td>42003</td>\n",
       "      <td>484350.0</td>\n",
       "    </tr>\n",
       "    <tr>\n",
       "      <th>1</th>\n",
       "      <td>2019-07-22</td>\n",
       "      <td>210550.0</td>\n",
       "      <td>3.625</td>\n",
       "      <td>NC</td>\n",
       "      <td>37111</td>\n",
       "      <td>37111</td>\n",
       "      <td>484350.0</td>\n",
       "    </tr>\n",
       "    <tr>\n",
       "      <th>2</th>\n",
       "      <td>2019-02-14</td>\n",
       "      <td>344250.0</td>\n",
       "      <td>4.500</td>\n",
       "      <td>FL</td>\n",
       "      <td>12011</td>\n",
       "      <td>12011</td>\n",
       "      <td>529000.0</td>\n",
       "    </tr>\n",
       "    <tr>\n",
       "      <th>3</th>\n",
       "      <td>2019-09-23</td>\n",
       "      <td>461120.0</td>\n",
       "      <td>3.750</td>\n",
       "      <td>NJ</td>\n",
       "      <td>34039</td>\n",
       "      <td>34039</td>\n",
       "      <td>726525.0</td>\n",
       "    </tr>\n",
       "    <tr>\n",
       "      <th>4</th>\n",
       "      <td>2019-08-08</td>\n",
       "      <td>346000.0</td>\n",
       "      <td>3.500</td>\n",
       "      <td>TX</td>\n",
       "      <td>48453</td>\n",
       "      <td>48453</td>\n",
       "      <td>484350.0</td>\n",
       "    </tr>\n",
       "  </tbody>\n",
       "</table>\n",
       "</div>"
      ],
      "text/plain": [
       "    funded_at  loan_amount   rate state county_fips   fips  loan_limit\n",
       "0  2017-05-26     162000.0  3.125    PA       42003  42003    484350.0\n",
       "1  2019-07-22     210550.0  3.625    NC       37111  37111    484350.0\n",
       "2  2019-02-14     344250.0  4.500    FL       12011  12011    529000.0\n",
       "3  2019-09-23     461120.0  3.750    NJ       34039  34039    726525.0\n",
       "4  2019-08-08     346000.0  3.500    TX       48453  48453    484350.0"
      ]
     },
     "execution_count": 8,
     "metadata": {},
     "output_type": "execute_result"
    }
   ],
   "source": [
    "df.head()"
   ]
  },
  {
   "cell_type": "markdown",
   "metadata": {},
   "source": [
    "### `2.4 Drop nan`"
   ]
  },
  {
   "cell_type": "code",
   "execution_count": 9,
   "metadata": {},
   "outputs": [
    {
     "data": {
      "text/html": [
       "<div>\n",
       "<style scoped>\n",
       "    .dataframe tbody tr th:only-of-type {\n",
       "        vertical-align: middle;\n",
       "    }\n",
       "\n",
       "    .dataframe tbody tr th {\n",
       "        vertical-align: top;\n",
       "    }\n",
       "\n",
       "    .dataframe thead th {\n",
       "        text-align: right;\n",
       "    }\n",
       "</style>\n",
       "<table border=\"1\" class=\"dataframe\">\n",
       "  <thead>\n",
       "    <tr style=\"text-align: right;\">\n",
       "      <th></th>\n",
       "      <th>funded_at</th>\n",
       "      <th>loan_amount</th>\n",
       "      <th>rate</th>\n",
       "      <th>state</th>\n",
       "      <th>county_fips</th>\n",
       "      <th>fips</th>\n",
       "      <th>loan_limit</th>\n",
       "    </tr>\n",
       "  </thead>\n",
       "  <tbody>\n",
       "    <tr>\n",
       "      <th>5189</th>\n",
       "      <td>2019-05-15</td>\n",
       "      <td>261500.0</td>\n",
       "      <td>3.875</td>\n",
       "      <td>NJ</td>\n",
       "      <td>34</td>\n",
       "      <td>NaN</td>\n",
       "      <td>NaN</td>\n",
       "    </tr>\n",
       "  </tbody>\n",
       "</table>\n",
       "</div>"
      ],
      "text/plain": [
       "       funded_at  loan_amount   rate state county_fips fips  loan_limit\n",
       "5189  2019-05-15     261500.0  3.875    NJ       34     NaN         NaN"
      ]
     },
     "execution_count": 9,
     "metadata": {},
     "output_type": "execute_result"
    }
   ],
   "source": [
    "# find the nan record in loan table \n",
    "df.loc[(df['fips'].isna())& (df['county_fips']!='')].head()"
   ]
  },
  {
   "cell_type": "code",
   "execution_count": 10,
   "metadata": {},
   "outputs": [
    {
     "name": "stdout",
     "output_type": "stream",
     "text": [
      "<class 'pandas.core.frame.DataFrame'>\n",
      "Int64Index: 9999 entries, 0 to 9999\n",
      "Data columns (total 7 columns):\n",
      " #   Column       Non-Null Count  Dtype  \n",
      "---  ------       --------------  -----  \n",
      " 0   funded_at    9999 non-null   object \n",
      " 1   loan_amount  9999 non-null   float64\n",
      " 2   rate         9999 non-null   float64\n",
      " 3   state        9999 non-null   object \n",
      " 4   county_fips  9999 non-null   object \n",
      " 5   fips         9999 non-null   object \n",
      " 6   loan_limit   9999 non-null   float64\n",
      "dtypes: float64(3), object(4)\n",
      "memory usage: 624.9+ KB\n"
     ]
    }
   ],
   "source": [
    "# drop the Nan\n",
    "df = df.dropna() \n",
    "df.info()"
   ]
  },
  {
   "cell_type": "markdown",
   "metadata": {},
   "source": [
    "### `2.5 Convert funded_at to datetime`"
   ]
  },
  {
   "cell_type": "code",
   "execution_count": 11,
   "metadata": {},
   "outputs": [],
   "source": [
    "df['funded_at']=pd.to_datetime(df['funded_at'])"
   ]
  },
  {
   "cell_type": "markdown",
   "metadata": {},
   "source": [
    "### `2.6 Set funded_at as index`"
   ]
  },
  {
   "cell_type": "code",
   "execution_count": 12,
   "metadata": {},
   "outputs": [],
   "source": [
    "df = df.set_index('funded_at')"
   ]
  },
  {
   "cell_type": "code",
   "execution_count": 13,
   "metadata": {},
   "outputs": [
    {
     "data": {
      "text/html": [
       "<div>\n",
       "<style scoped>\n",
       "    .dataframe tbody tr th:only-of-type {\n",
       "        vertical-align: middle;\n",
       "    }\n",
       "\n",
       "    .dataframe tbody tr th {\n",
       "        vertical-align: top;\n",
       "    }\n",
       "\n",
       "    .dataframe thead th {\n",
       "        text-align: right;\n",
       "    }\n",
       "</style>\n",
       "<table border=\"1\" class=\"dataframe\">\n",
       "  <thead>\n",
       "    <tr style=\"text-align: right;\">\n",
       "      <th></th>\n",
       "      <th>loan_amount</th>\n",
       "      <th>rate</th>\n",
       "      <th>state</th>\n",
       "      <th>county_fips</th>\n",
       "      <th>fips</th>\n",
       "      <th>loan_limit</th>\n",
       "    </tr>\n",
       "    <tr>\n",
       "      <th>funded_at</th>\n",
       "      <th></th>\n",
       "      <th></th>\n",
       "      <th></th>\n",
       "      <th></th>\n",
       "      <th></th>\n",
       "      <th></th>\n",
       "    </tr>\n",
       "  </thead>\n",
       "  <tbody>\n",
       "    <tr>\n",
       "      <th>2017-05-26</th>\n",
       "      <td>162000.0</td>\n",
       "      <td>3.125</td>\n",
       "      <td>PA</td>\n",
       "      <td>42003</td>\n",
       "      <td>42003</td>\n",
       "      <td>484350.0</td>\n",
       "    </tr>\n",
       "    <tr>\n",
       "      <th>2019-07-22</th>\n",
       "      <td>210550.0</td>\n",
       "      <td>3.625</td>\n",
       "      <td>NC</td>\n",
       "      <td>37111</td>\n",
       "      <td>37111</td>\n",
       "      <td>484350.0</td>\n",
       "    </tr>\n",
       "    <tr>\n",
       "      <th>2019-02-14</th>\n",
       "      <td>344250.0</td>\n",
       "      <td>4.500</td>\n",
       "      <td>FL</td>\n",
       "      <td>12011</td>\n",
       "      <td>12011</td>\n",
       "      <td>529000.0</td>\n",
       "    </tr>\n",
       "    <tr>\n",
       "      <th>2019-09-23</th>\n",
       "      <td>461120.0</td>\n",
       "      <td>3.750</td>\n",
       "      <td>NJ</td>\n",
       "      <td>34039</td>\n",
       "      <td>34039</td>\n",
       "      <td>726525.0</td>\n",
       "    </tr>\n",
       "    <tr>\n",
       "      <th>2019-08-08</th>\n",
       "      <td>346000.0</td>\n",
       "      <td>3.500</td>\n",
       "      <td>TX</td>\n",
       "      <td>48453</td>\n",
       "      <td>48453</td>\n",
       "      <td>484350.0</td>\n",
       "    </tr>\n",
       "  </tbody>\n",
       "</table>\n",
       "</div>"
      ],
      "text/plain": [
       "            loan_amount   rate state county_fips   fips  loan_limit\n",
       "funded_at                                                          \n",
       "2017-05-26     162000.0  3.125    PA       42003  42003    484350.0\n",
       "2019-07-22     210550.0  3.625    NC       37111  37111    484350.0\n",
       "2019-02-14     344250.0  4.500    FL       12011  12011    529000.0\n",
       "2019-09-23     461120.0  3.750    NJ       34039  34039    726525.0\n",
       "2019-08-08     346000.0  3.500    TX       48453  48453    484350.0"
      ]
     },
     "execution_count": 13,
     "metadata": {},
     "output_type": "execute_result"
    }
   ],
   "source": [
    "df.head()"
   ]
  },
  {
   "cell_type": "code",
   "execution_count": 14,
   "metadata": {
    "scrolled": true
   },
   "outputs": [
    {
     "data": {
      "text/html": [
       "<div>\n",
       "<style scoped>\n",
       "    .dataframe tbody tr th:only-of-type {\n",
       "        vertical-align: middle;\n",
       "    }\n",
       "\n",
       "    .dataframe tbody tr th {\n",
       "        vertical-align: top;\n",
       "    }\n",
       "\n",
       "    .dataframe thead th {\n",
       "        text-align: right;\n",
       "    }\n",
       "</style>\n",
       "<table border=\"1\" class=\"dataframe\">\n",
       "  <thead>\n",
       "    <tr style=\"text-align: right;\">\n",
       "      <th>funded_at</th>\n",
       "      <th>1</th>\n",
       "      <th>2</th>\n",
       "      <th>3</th>\n",
       "      <th>4</th>\n",
       "      <th>5</th>\n",
       "      <th>6</th>\n",
       "      <th>7</th>\n",
       "      <th>8</th>\n",
       "      <th>9</th>\n",
       "      <th>10</th>\n",
       "      <th>11</th>\n",
       "      <th>12</th>\n",
       "    </tr>\n",
       "    <tr>\n",
       "      <th>funded_at</th>\n",
       "      <th></th>\n",
       "      <th></th>\n",
       "      <th></th>\n",
       "      <th></th>\n",
       "      <th></th>\n",
       "      <th></th>\n",
       "      <th></th>\n",
       "      <th></th>\n",
       "      <th></th>\n",
       "      <th></th>\n",
       "      <th></th>\n",
       "      <th></th>\n",
       "    </tr>\n",
       "  </thead>\n",
       "  <tbody>\n",
       "    <tr>\n",
       "      <th>2011</th>\n",
       "      <td>NaN</td>\n",
       "      <td>NaN</td>\n",
       "      <td>NaN</td>\n",
       "      <td>1.0</td>\n",
       "      <td>NaN</td>\n",
       "      <td>NaN</td>\n",
       "      <td>NaN</td>\n",
       "      <td>NaN</td>\n",
       "      <td>NaN</td>\n",
       "      <td>NaN</td>\n",
       "      <td>NaN</td>\n",
       "      <td>NaN</td>\n",
       "    </tr>\n",
       "    <tr>\n",
       "      <th>2016</th>\n",
       "      <td>2.0</td>\n",
       "      <td>NaN</td>\n",
       "      <td>NaN</td>\n",
       "      <td>NaN</td>\n",
       "      <td>NaN</td>\n",
       "      <td>NaN</td>\n",
       "      <td>NaN</td>\n",
       "      <td>NaN</td>\n",
       "      <td>NaN</td>\n",
       "      <td>42.0</td>\n",
       "      <td>102.0</td>\n",
       "      <td>56.0</td>\n",
       "    </tr>\n",
       "    <tr>\n",
       "      <th>2017</th>\n",
       "      <td>65.0</td>\n",
       "      <td>51.0</td>\n",
       "      <td>41.0</td>\n",
       "      <td>37.0</td>\n",
       "      <td>41.0</td>\n",
       "      <td>59.0</td>\n",
       "      <td>82.0</td>\n",
       "      <td>88.0</td>\n",
       "      <td>63.0</td>\n",
       "      <td>78.0</td>\n",
       "      <td>88.0</td>\n",
       "      <td>68.0</td>\n",
       "    </tr>\n",
       "    <tr>\n",
       "      <th>2018</th>\n",
       "      <td>85.0</td>\n",
       "      <td>93.0</td>\n",
       "      <td>137.0</td>\n",
       "      <td>169.0</td>\n",
       "      <td>189.0</td>\n",
       "      <td>255.0</td>\n",
       "      <td>271.0</td>\n",
       "      <td>295.0</td>\n",
       "      <td>261.0</td>\n",
       "      <td>320.0</td>\n",
       "      <td>294.0</td>\n",
       "      <td>258.0</td>\n",
       "    </tr>\n",
       "    <tr>\n",
       "      <th>2019</th>\n",
       "      <td>267.0</td>\n",
       "      <td>305.0</td>\n",
       "      <td>386.0</td>\n",
       "      <td>535.0</td>\n",
       "      <td>619.0</td>\n",
       "      <td>620.0</td>\n",
       "      <td>680.0</td>\n",
       "      <td>794.0</td>\n",
       "      <td>1000.0</td>\n",
       "      <td>1177.0</td>\n",
       "      <td>25.0</td>\n",
       "      <td>NaN</td>\n",
       "    </tr>\n",
       "  </tbody>\n",
       "</table>\n",
       "</div>"
      ],
      "text/plain": [
       "funded_at     1      2      3      4      5      6      7      8       9   \\\n",
       "funded_at                                                                   \n",
       "2011         NaN    NaN    NaN    1.0    NaN    NaN    NaN    NaN     NaN   \n",
       "2016         2.0    NaN    NaN    NaN    NaN    NaN    NaN    NaN     NaN   \n",
       "2017        65.0   51.0   41.0   37.0   41.0   59.0   82.0   88.0    63.0   \n",
       "2018        85.0   93.0  137.0  169.0  189.0  255.0  271.0  295.0   261.0   \n",
       "2019       267.0  305.0  386.0  535.0  619.0  620.0  680.0  794.0  1000.0   \n",
       "\n",
       "funded_at      10     11     12  \n",
       "funded_at                        \n",
       "2011          NaN    NaN    NaN  \n",
       "2016         42.0  102.0   56.0  \n",
       "2017         78.0   88.0   68.0  \n",
       "2018        320.0  294.0  258.0  \n",
       "2019       1177.0   25.0    NaN  "
      ]
     },
     "execution_count": 14,
     "metadata": {},
     "output_type": "execute_result"
    }
   ],
   "source": [
    "#Explore the record count by year \n",
    "df.groupby([df.index.year,df.index.month]).size().unstack()\n",
    "# incomplete data in 2011 and 2016. no data from 2012-2015"
   ]
  },
  {
   "cell_type": "markdown",
   "metadata": {},
   "source": [
    "### `2.7 Drop data prior to 2017 due to incomplete data in 2011 and 2016`"
   ]
  },
  {
   "cell_type": "code",
   "execution_count": 15,
   "metadata": {},
   "outputs": [],
   "source": [
    "# Missing data from 2012-2015.\n",
    "# Finalize the data as below\n",
    "df= df[df.index.year >=2017] "
   ]
  },
  {
   "cell_type": "markdown",
   "metadata": {},
   "source": [
    "<a href='#agenda'>Go back to agenda</a>"
   ]
  },
  {
   "cell_type": "markdown",
   "metadata": {},
   "source": [
    "***\n",
    "# 3. Exploratory Data Analysis  <a id='eda'></a>"
   ]
  },
  {
   "cell_type": "markdown",
   "metadata": {},
   "source": [
    "### 3. a. How has the loan interest rate varied over time? <a id='3a'></a>\n",
    "> note: as mentioned, we're going to look at trend over the period of 2017-2019 as data is missing/incomplete during 2011 -2016"
   ]
  },
  {
   "cell_type": "markdown",
   "metadata": {},
   "source": [
    "### `3.a.1 Calculate and plot Avg. loan interest rate by year`"
   ]
  },
  {
   "cell_type": "code",
   "execution_count": 16,
   "metadata": {},
   "outputs": [
    {
     "name": "stdout",
     "output_type": "stream",
     "text": [
      "average interest rate by year: funded_at\n",
      "2017    3.775460\n",
      "2018    4.429911\n",
      "2019    3.836757\n",
      "Name: rate, dtype: float64\n"
     ]
    }
   ],
   "source": [
    "# calculate avg. loan interest rate by year\n",
    "rate = df['rate']\n",
    "rate_by_year = rate.groupby([(rate.index.year)]).mean()\n",
    "print('average interest rate by year:', rate_by_year)"
   ]
  },
  {
   "cell_type": "code",
   "execution_count": 60,
   "metadata": {},
   "outputs": [
    {
     "name": "stdout",
     "output_type": "stream",
     "text": [
      "three year average(%): 4.014042548010129\n"
     ]
    },
    {
     "data": {
      "image/png": "[encoded data removed]",
      "text/plain": [
       "<Figure size 360x216 with 1 Axes>"
      ]
     },
     "metadata": {},
     "output_type": "display_data"
    }
   ],
   "source": [
    "rate_by_year.plot(kind='bar',figsize =(5,3),color = '#3b2c52')\n",
    "plt.style.use('tableau-colorblind10')\n",
    "plt.title('Loan Interest Rate Trend by Year')\n",
    "plt.ylabel('Interest Rate (%)')\n",
    "plt.xlabel('Loan Funded (Year)')\n",
    "plt.ylim(3,4.5)\n",
    "print('three year average(%):',rate_by_year.mean())"
   ]
  },
  {
   "cell_type": "markdown",
   "metadata": {},
   "source": [
    "### `3.a.1 Findings:`\n",
    ">  In the period of 2017~ 2019, **2018** has the *highest* avg.loan interest (4.43%), while **2017** had the *lowest* average interest rate (3.78%)"
   ]
  },
  {
   "cell_type": "markdown",
   "metadata": {},
   "source": [
    "### `3.a.2 Plot trend of avg. loan interest rate`"
   ]
  },
  {
   "cell_type": "code",
   "execution_count": 61,
   "metadata": {},
   "outputs": [
    {
     "name": "stdout",
     "output_type": "stream",
     "text": [
      "lowest interest rate: 3.4246 \n",
      "highest interest rate: 4.698643410852713 \n",
      "average interest rate: 4.019366404053524\n"
     ]
    },
    {
     "data": {
      "image/png": "[encoded data removed]",
      "text/plain": [
       "<Figure size 864x432 with 1 Axes>"
      ]
     },
     "metadata": {},
     "output_type": "display_data"
    }
   ],
   "source": [
    "rate_by_date = rate.groupby([(rate.index.year),(rate.index.month)]).mean()\n",
    "\n",
    "rate_by_date.plot(kind ='line',figsize = (12,6),color ='#3b2c52')\n",
    "plt.title('Loan Interest Rate Trend (2017-2019)')\n",
    "plt.ylabel('Interest Rate (%)')\n",
    "plt.xlabel('Loan Funded Date (Year,Month)')\n",
    "plt.ylim(3,5)\n",
    "plt.style.use('tableau-colorblind10')# color blind friendly\n",
    "\n",
    "print('lowest interest rate:',rate_by_date.min(),'\\nhighest interest rate:',\n",
    "      rate_by_date.max(),'\\naverage interest rate:',rate_by_date.mean())\n",
    "# Highest-> Nov 2018: 4.7%\n",
    "# Lowest -> Nov 2019: 3.4%"
   ]
  },
  {
   "cell_type": "markdown",
   "metadata": {},
   "source": [
    "### `3.a.2 Findings:`\n",
    "> From 2017 through 2019, we saw the *highest* avg.loan interest in **Nov 2018** at around 4.7% and *lowest* interset in **Nov 2019**, about 3.4%. The loan interest rate increased consistently from Nov 2017 to Nov 2018 and declined since then."
   ]
  },
  {
   "cell_type": "markdown",
   "metadata": {},
   "source": [
    "### `3.a.3 Plot Avg. loan interest rate by month`"
   ]
  },
  {
   "cell_type": "code",
   "execution_count": 62,
   "metadata": {},
   "outputs": [
    {
     "data": {
      "image/png": "[encoded data removed]",
      "text/plain": [
       "<Figure size 576x396 with 1 Axes>"
      ]
     },
     "metadata": {},
     "output_type": "display_data"
    },
    {
     "data": {
      "image/png": "[encoded data removed]",
      "text/plain": [
       "<Figure size 576x396 with 1 Axes>"
      ]
     },
     "metadata": {},
     "output_type": "display_data"
    },
    {
     "data": {
      "image/png": "[encoded data removed]",
      "text/plain": [
       "<Figure size 576x396 with 1 Axes>"
      ]
     },
     "metadata": {},
     "output_type": "display_data"
    }
   ],
   "source": [
    "# calculate avg. loan interest rate by month\n",
    "rate_by_month = rate.groupby([(rate.index.month),(rate.index.year)]).mean()\n",
    "rate_by_month = pd.DataFrame(rate_by_month)\n",
    "m = rate_by_month.unstack()\n",
    "m_2017= m.iloc[:,0]\n",
    "m_2018= m.iloc[:,1]\n",
    "m_2019= m.iloc[:,2]\n",
    "\n",
    "plt.figure()\n",
    "plt.subplot(211)\n",
    "plt.title('Avg.Interest Rate by Month in Year 2017')\n",
    "m_2017.plot(kind='bar',color ='#3b2c52')\n",
    "plt.ylabel('Interest Rate (%)')\n",
    "plt.xlabel('Loan Funded (Month)')\n",
    "plt.ylim(3,5)\n",
    "plt.show()\n",
    "\n",
    "plt.subplot(212)\n",
    "m_2018.plot(kind='bar',color ='#a19db0')\n",
    "plt.title('Avg.Interest Rate by Month in Year 2018')\n",
    "plt.ylabel('Interest Rate (%)')\n",
    "plt.xlabel('Loan Funded (Month)')\n",
    "plt.ylim(3,5)\n",
    "plt.show()\n",
    "\n",
    "plt.subplot(212)\n",
    "plt.title('Avg.Interest Rate by Month in Year2019')\n",
    "m_2019.plot(kind='bar',color ='#1fd5a8')\n",
    "plt.ylabel('Interest Rate (%)')\n",
    "plt.xlabel('Loan Funded (Month)')\n",
    "plt.ylim(3,5)\n",
    "plt.show()\n",
    "\n",
    "# # Highest-> Dec\n",
    "# # Lowest -> Oct"
   ]
  },
  {
   "cell_type": "markdown",
   "metadata": {},
   "source": [
    "### `3.a.3 Findings:`\n",
    "> There is **NO** substantial seasonal change in the interest rate as we see different patterns every year."
   ]
  },
  {
   "cell_type": "markdown",
   "metadata": {},
   "source": [
    "### 3.a Summary\n",
    "> -  In the period of 2017~ 2019, **2018** had the *highest* avg.loan interest (4.43%), while **2017** had the *lowest* average interest rate (3.78%).\n",
    "-  From 2017 through 2019, we saw the highest avg.loan interest in Nov 2018 at around 4.7% and lowest interset in Nov 2019, about 3.4%. The loan interest rate increased consistently from Nov 2017 to Nov 2018 and declined since then.\n",
    "-  There is **NO** substantial seasonal change in the interest rate as we see different patterns every year."
   ]
  },
  {
   "cell_type": "markdown",
   "metadata": {},
   "source": [
    "### 3.b. How much does the interest rate differ between conforming and jumbo? <a id='3b'></a>"
   ]
  },
  {
   "cell_type": "markdown",
   "metadata": {},
   "source": [
    "> ###  We'll be exploring the difference per the following order:\n",
    "1. By loan type \n",
    "2. By loan type and state"
   ]
  },
  {
   "cell_type": "markdown",
   "metadata": {},
   "source": [
    "### `3.b.1 Create a new column 'loan_type' based on the logics were given as below: ` \n",
    "- Conforming is when a loan amount is lower or equal to the conforming loan limit for that county\n",
    "- Jumbo is when a loan amount is larger than that."
   ]
  },
  {
   "cell_type": "code",
   "execution_count": 20,
   "metadata": {},
   "outputs": [
    {
     "data": {
      "text/html": [
       "<div>\n",
       "<style scoped>\n",
       "    .dataframe tbody tr th:only-of-type {\n",
       "        vertical-align: middle;\n",
       "    }\n",
       "\n",
       "    .dataframe tbody tr th {\n",
       "        vertical-align: top;\n",
       "    }\n",
       "\n",
       "    .dataframe thead th {\n",
       "        text-align: right;\n",
       "    }\n",
       "</style>\n",
       "<table border=\"1\" class=\"dataframe\">\n",
       "  <thead>\n",
       "    <tr style=\"text-align: right;\">\n",
       "      <th></th>\n",
       "      <th>loan_amount</th>\n",
       "      <th>rate</th>\n",
       "      <th>state</th>\n",
       "      <th>county_fips</th>\n",
       "      <th>fips</th>\n",
       "      <th>loan_limit</th>\n",
       "      <th>diff</th>\n",
       "      <th>loan_type</th>\n",
       "    </tr>\n",
       "    <tr>\n",
       "      <th>funded_at</th>\n",
       "      <th></th>\n",
       "      <th></th>\n",
       "      <th></th>\n",
       "      <th></th>\n",
       "      <th></th>\n",
       "      <th></th>\n",
       "      <th></th>\n",
       "      <th></th>\n",
       "    </tr>\n",
       "  </thead>\n",
       "  <tbody>\n",
       "    <tr>\n",
       "      <th>2017-05-26</th>\n",
       "      <td>162000.0</td>\n",
       "      <td>3.125</td>\n",
       "      <td>PA</td>\n",
       "      <td>42003</td>\n",
       "      <td>42003</td>\n",
       "      <td>484350.0</td>\n",
       "      <td>-322350.0</td>\n",
       "      <td>conforming</td>\n",
       "    </tr>\n",
       "    <tr>\n",
       "      <th>2019-07-22</th>\n",
       "      <td>210550.0</td>\n",
       "      <td>3.625</td>\n",
       "      <td>NC</td>\n",
       "      <td>37111</td>\n",
       "      <td>37111</td>\n",
       "      <td>484350.0</td>\n",
       "      <td>-273800.0</td>\n",
       "      <td>conforming</td>\n",
       "    </tr>\n",
       "    <tr>\n",
       "      <th>2019-02-14</th>\n",
       "      <td>344250.0</td>\n",
       "      <td>4.500</td>\n",
       "      <td>FL</td>\n",
       "      <td>12011</td>\n",
       "      <td>12011</td>\n",
       "      <td>529000.0</td>\n",
       "      <td>-184750.0</td>\n",
       "      <td>conforming</td>\n",
       "    </tr>\n",
       "    <tr>\n",
       "      <th>2019-09-23</th>\n",
       "      <td>461120.0</td>\n",
       "      <td>3.750</td>\n",
       "      <td>NJ</td>\n",
       "      <td>34039</td>\n",
       "      <td>34039</td>\n",
       "      <td>726525.0</td>\n",
       "      <td>-265405.0</td>\n",
       "      <td>conforming</td>\n",
       "    </tr>\n",
       "    <tr>\n",
       "      <th>2019-08-08</th>\n",
       "      <td>346000.0</td>\n",
       "      <td>3.500</td>\n",
       "      <td>TX</td>\n",
       "      <td>48453</td>\n",
       "      <td>48453</td>\n",
       "      <td>484350.0</td>\n",
       "      <td>-138350.0</td>\n",
       "      <td>conforming</td>\n",
       "    </tr>\n",
       "  </tbody>\n",
       "</table>\n",
       "</div>"
      ],
      "text/plain": [
       "            loan_amount   rate state county_fips   fips  loan_limit      diff  \\\n",
       "funded_at                                                                       \n",
       "2017-05-26     162000.0  3.125    PA       42003  42003    484350.0 -322350.0   \n",
       "2019-07-22     210550.0  3.625    NC       37111  37111    484350.0 -273800.0   \n",
       "2019-02-14     344250.0  4.500    FL       12011  12011    529000.0 -184750.0   \n",
       "2019-09-23     461120.0  3.750    NJ       34039  34039    726525.0 -265405.0   \n",
       "2019-08-08     346000.0  3.500    TX       48453  48453    484350.0 -138350.0   \n",
       "\n",
       "             loan_type  \n",
       "funded_at               \n",
       "2017-05-26  conforming  \n",
       "2019-07-22  conforming  \n",
       "2019-02-14  conforming  \n",
       "2019-09-23  conforming  \n",
       "2019-08-08  conforming  "
      ]
     },
     "execution_count": 20,
     "metadata": {},
     "output_type": "execute_result"
    }
   ],
   "source": [
    "#### Create a new column [loan_type]\n",
    "df['diff'] =df['loan_amount'] - df['loan_limit']\n",
    "df['loan_type'] = df['diff'].apply (lambda x : 'conforming' if x <=0 else 'jumbo')\n",
    "df.head()"
   ]
  },
  {
   "cell_type": "markdown",
   "metadata": {},
   "source": [
    "\n",
    "### `3.b.2 Explore interest rate by loan type`"
   ]
  },
  {
   "cell_type": "code",
   "execution_count": 21,
   "metadata": {},
   "outputs": [
    {
     "data": {
      "text/html": [
       "<div>\n",
       "<style scoped>\n",
       "    .dataframe tbody tr th:only-of-type {\n",
       "        vertical-align: middle;\n",
       "    }\n",
       "\n",
       "    .dataframe tbody tr th {\n",
       "        vertical-align: top;\n",
       "    }\n",
       "\n",
       "    .dataframe thead tr th {\n",
       "        text-align: left;\n",
       "    }\n",
       "\n",
       "    .dataframe thead tr:last-of-type th {\n",
       "        text-align: right;\n",
       "    }\n",
       "</style>\n",
       "<table border=\"1\" class=\"dataframe\">\n",
       "  <thead>\n",
       "    <tr>\n",
       "      <th></th>\n",
       "      <th colspan=\"5\" halign=\"left\">rate</th>\n",
       "    </tr>\n",
       "    <tr>\n",
       "      <th></th>\n",
       "      <th>count</th>\n",
       "      <th>max</th>\n",
       "      <th>min</th>\n",
       "      <th>mean</th>\n",
       "      <th>median</th>\n",
       "    </tr>\n",
       "    <tr>\n",
       "      <th>loan_type</th>\n",
       "      <th></th>\n",
       "      <th></th>\n",
       "      <th></th>\n",
       "      <th></th>\n",
       "      <th></th>\n",
       "    </tr>\n",
       "  </thead>\n",
       "  <tbody>\n",
       "    <tr>\n",
       "      <th>conforming</th>\n",
       "      <td>9484</td>\n",
       "      <td>6.625</td>\n",
       "      <td>2.375</td>\n",
       "      <td>3.998431</td>\n",
       "      <td>4.000</td>\n",
       "    </tr>\n",
       "    <tr>\n",
       "      <th>jumbo</th>\n",
       "      <td>312</td>\n",
       "      <td>5.000</td>\n",
       "      <td>2.875</td>\n",
       "      <td>3.767051</td>\n",
       "      <td>3.625</td>\n",
       "    </tr>\n",
       "  </tbody>\n",
       "</table>\n",
       "</div>"
      ],
      "text/plain": [
       "            rate                               \n",
       "           count    max    min      mean median\n",
       "loan_type                                      \n",
       "conforming  9484  6.625  2.375  3.998431  4.000\n",
       "jumbo        312  5.000  2.875  3.767051  3.625"
      ]
     },
     "execution_count": 21,
     "metadata": {},
     "output_type": "execute_result"
    }
   ],
   "source": [
    "df.groupby(['loan_type']).agg({'rate':['count','max','min','mean','median']})"
   ]
  },
  {
   "cell_type": "code",
   "execution_count": 22,
   "metadata": {},
   "outputs": [
    {
     "data": {
      "text/html": [
       "<div>\n",
       "<style scoped>\n",
       "    .dataframe tbody tr th:only-of-type {\n",
       "        vertical-align: middle;\n",
       "    }\n",
       "\n",
       "    .dataframe tbody tr th {\n",
       "        vertical-align: top;\n",
       "    }\n",
       "\n",
       "    .dataframe thead tr th {\n",
       "        text-align: left;\n",
       "    }\n",
       "\n",
       "    .dataframe thead tr:last-of-type th {\n",
       "        text-align: right;\n",
       "    }\n",
       "</style>\n",
       "<table border=\"1\" class=\"dataframe\">\n",
       "  <thead>\n",
       "    <tr>\n",
       "      <th></th>\n",
       "      <th></th>\n",
       "      <th colspan=\"5\" halign=\"left\">rate</th>\n",
       "    </tr>\n",
       "    <tr>\n",
       "      <th></th>\n",
       "      <th></th>\n",
       "      <th>count</th>\n",
       "      <th>max</th>\n",
       "      <th>min</th>\n",
       "      <th>mean</th>\n",
       "      <th>median</th>\n",
       "    </tr>\n",
       "    <tr>\n",
       "      <th>funded_at</th>\n",
       "      <th>loan_type</th>\n",
       "      <th></th>\n",
       "      <th></th>\n",
       "      <th></th>\n",
       "      <th></th>\n",
       "      <th></th>\n",
       "    </tr>\n",
       "  </thead>\n",
       "  <tbody>\n",
       "    <tr>\n",
       "      <th rowspan=\"2\" valign=\"top\">2017</th>\n",
       "      <th>conforming</th>\n",
       "      <td>749</td>\n",
       "      <td>5.750</td>\n",
       "      <td>2.750</td>\n",
       "      <td>3.771696</td>\n",
       "      <td>3.8750</td>\n",
       "    </tr>\n",
       "    <tr>\n",
       "      <th>jumbo</th>\n",
       "      <td>12</td>\n",
       "      <td>4.375</td>\n",
       "      <td>3.500</td>\n",
       "      <td>4.010417</td>\n",
       "      <td>4.0000</td>\n",
       "    </tr>\n",
       "    <tr>\n",
       "      <th rowspan=\"2\" valign=\"top\">2018</th>\n",
       "      <th>conforming</th>\n",
       "      <td>2565</td>\n",
       "      <td>6.625</td>\n",
       "      <td>2.750</td>\n",
       "      <td>4.433772</td>\n",
       "      <td>4.3750</td>\n",
       "    </tr>\n",
       "    <tr>\n",
       "      <th>jumbo</th>\n",
       "      <td>62</td>\n",
       "      <td>5.000</td>\n",
       "      <td>3.250</td>\n",
       "      <td>4.270161</td>\n",
       "      <td>4.3750</td>\n",
       "    </tr>\n",
       "    <tr>\n",
       "      <th rowspan=\"2\" valign=\"top\">2019</th>\n",
       "      <th>conforming</th>\n",
       "      <td>6170</td>\n",
       "      <td>6.625</td>\n",
       "      <td>2.375</td>\n",
       "      <td>3.844975</td>\n",
       "      <td>3.8750</td>\n",
       "    </tr>\n",
       "    <tr>\n",
       "      <th>jumbo</th>\n",
       "      <td>238</td>\n",
       "      <td>4.875</td>\n",
       "      <td>2.875</td>\n",
       "      <td>3.623718</td>\n",
       "      <td>3.5625</td>\n",
       "    </tr>\n",
       "  </tbody>\n",
       "</table>\n",
       "</div>"
      ],
      "text/plain": [
       "                      rate                                \n",
       "                     count    max    min      mean  median\n",
       "funded_at loan_type                                       \n",
       "2017      conforming   749  5.750  2.750  3.771696  3.8750\n",
       "          jumbo         12  4.375  3.500  4.010417  4.0000\n",
       "2018      conforming  2565  6.625  2.750  4.433772  4.3750\n",
       "          jumbo         62  5.000  3.250  4.270161  4.3750\n",
       "2019      conforming  6170  6.625  2.375  3.844975  3.8750\n",
       "          jumbo        238  4.875  2.875  3.623718  3.5625"
      ]
     },
     "execution_count": 22,
     "metadata": {},
     "output_type": "execute_result"
    }
   ],
   "source": [
    "df.groupby([df.index.year,'loan_type']).agg({'rate':['count','max','min','mean','median']})"
   ]
  },
  {
   "cell_type": "markdown",
   "metadata": {},
   "source": [
    "### 3.b.1 Findings:\n",
    "> On average, conforming loan has a **higher** interest rate (4.0% vs. 3.8%) than jumbo loan- a 5% difference."
   ]
  },
  {
   "cell_type": "markdown",
   "metadata": {},
   "source": [
    "### `3.b.2 Check the kde distribution of conforming and jumbo group`"
   ]
  },
  {
   "cell_type": "code",
   "execution_count": 64,
   "metadata": {},
   "outputs": [],
   "source": [
    "# overall\n",
    "import scipy.stats as stats \n",
    "a = df.loc[(df['loan_type']=='conforming')]['rate']\n",
    "b = df.loc[(df['loan_type']=='jumbo')]['rate']"
   ]
  },
  {
   "cell_type": "code",
   "execution_count": 65,
   "metadata": {},
   "outputs": [
    {
     "data": {
      "image/png": "[encoded data removed]",
      "text/plain": [
       "<Figure size 360x216 with 1 Axes>"
      ]
     },
     "metadata": {},
     "output_type": "display_data"
    },
    {
     "data": {
      "image/png": "[encoded data removed]",
      "text/plain": [
       "<Figure size 360x216 with 1 Axes>"
      ]
     },
     "metadata": {},
     "output_type": "display_data"
    }
   ],
   "source": [
    "# Plot conforming \n",
    "a.plot(kind='kde',figsize =(5,3),color = '#3b2c52')\n",
    "plt.xlim(0,8)\n",
    "plt.title('Conforming Loan Interest Rate kde plot')\n",
    "plt.show()\n",
    "\n",
    "# Plot jumbo \n",
    "b.plot(kind='kde',figsize =(5,3),color = '#a19db0')\n",
    "plt.xlim(0,8)\n",
    "plt.title('Jumbo Loan Interest Rate kde plot')\n",
    "plt.show()"
   ]
  },
  {
   "cell_type": "markdown",
   "metadata": {},
   "source": [
    "### 3.b.2 Findings:\n",
    "> The Kde distribution of both conforming and jumbo loans are close to Normal."
   ]
  },
  {
   "cell_type": "markdown",
   "metadata": {},
   "source": [
    "### `3.b.3 Run A/B test to test if there is a statistical significant difference in interest rates between the two loan types`\n",
    "\n",
    "#### Why Welch test? \n",
    "> The sample sizes and sample variances between the two groups are **NOT** equal."
   ]
  },
  {
   "cell_type": "code",
   "execution_count": 25,
   "metadata": {},
   "outputs": [
    {
     "name": "stdout",
     "output_type": "stream",
     "text": [
      "9.390360678281832 7.948297023645028e-19\n"
     ]
    }
   ],
   "source": [
    "t_score, p_value = stats.ttest_ind(a,b,equal_var=False)\n",
    "print(t_score,p_value)"
   ]
  },
  {
   "cell_type": "markdown",
   "metadata": {},
   "source": [
    "### 3.b.3 Findings:\n",
    "> P value < 0.01 => We're 99% confident that there is a **siginificant** difference in interest rate between conforming and jumbo loan."
   ]
  },
  {
   "cell_type": "markdown",
   "metadata": {},
   "source": [
    "### `3.b.4 Explore avg. interest rate by loan type and state; Plot interest rate percent_difference between loan types by state`"
   ]
  },
  {
   "cell_type": "code",
   "execution_count": 66,
   "metadata": {},
   "outputs": [
    {
     "data": {
      "text/html": [
       "<div>\n",
       "<style scoped>\n",
       "    .dataframe tbody tr th:only-of-type {\n",
       "        vertical-align: middle;\n",
       "    }\n",
       "\n",
       "    .dataframe tbody tr th {\n",
       "        vertical-align: top;\n",
       "    }\n",
       "\n",
       "    .dataframe thead tr th {\n",
       "        text-align: left;\n",
       "    }\n",
       "\n",
       "    .dataframe thead tr:last-of-type th {\n",
       "        text-align: right;\n",
       "    }\n",
       "</style>\n",
       "<table border=\"1\" class=\"dataframe\">\n",
       "  <thead>\n",
       "    <tr>\n",
       "      <th></th>\n",
       "      <th colspan=\"2\" halign=\"left\">rate</th>\n",
       "      <th>percent_difference</th>\n",
       "    </tr>\n",
       "    <tr>\n",
       "      <th>loan_type</th>\n",
       "      <th>conforming</th>\n",
       "      <th>jumbo</th>\n",
       "      <th></th>\n",
       "    </tr>\n",
       "    <tr>\n",
       "      <th>state</th>\n",
       "      <th></th>\n",
       "      <th></th>\n",
       "      <th></th>\n",
       "    </tr>\n",
       "  </thead>\n",
       "  <tbody>\n",
       "    <tr>\n",
       "      <th>CT</th>\n",
       "      <td>3.942941</td>\n",
       "      <td>3.500000</td>\n",
       "      <td>12.655462</td>\n",
       "    </tr>\n",
       "    <tr>\n",
       "      <th>PA</th>\n",
       "      <td>4.009077</td>\n",
       "      <td>3.623462</td>\n",
       "      <td>10.642178</td>\n",
       "    </tr>\n",
       "    <tr>\n",
       "      <th>TX</th>\n",
       "      <td>4.031160</td>\n",
       "      <td>3.654925</td>\n",
       "      <td>10.293920</td>\n",
       "    </tr>\n",
       "    <tr>\n",
       "      <th>AZ</th>\n",
       "      <td>3.983879</td>\n",
       "      <td>3.612083</td>\n",
       "      <td>10.293122</td>\n",
       "    </tr>\n",
       "    <tr>\n",
       "      <th>TN</th>\n",
       "      <td>4.161572</td>\n",
       "      <td>3.875000</td>\n",
       "      <td>7.395408</td>\n",
       "    </tr>\n",
       "    <tr>\n",
       "      <th>GA</th>\n",
       "      <td>4.199757</td>\n",
       "      <td>3.990357</td>\n",
       "      <td>5.247637</td>\n",
       "    </tr>\n",
       "    <tr>\n",
       "      <th>MI</th>\n",
       "      <td>4.049125</td>\n",
       "      <td>3.870000</td>\n",
       "      <td>4.628540</td>\n",
       "    </tr>\n",
       "    <tr>\n",
       "      <th>FL</th>\n",
       "      <td>4.107394</td>\n",
       "      <td>3.925714</td>\n",
       "      <td>4.627950</td>\n",
       "    </tr>\n",
       "    <tr>\n",
       "      <th>CA</th>\n",
       "      <td>3.911182</td>\n",
       "      <td>3.739747</td>\n",
       "      <td>4.584108</td>\n",
       "    </tr>\n",
       "    <tr>\n",
       "      <th>WA</th>\n",
       "      <td>3.896639</td>\n",
       "      <td>3.773194</td>\n",
       "      <td>3.271628</td>\n",
       "    </tr>\n",
       "    <tr>\n",
       "      <th>OR</th>\n",
       "      <td>3.940451</td>\n",
       "      <td>3.873333</td>\n",
       "      <td>1.732805</td>\n",
       "    </tr>\n",
       "    <tr>\n",
       "      <th>CO</th>\n",
       "      <td>3.951155</td>\n",
       "      <td>3.897188</td>\n",
       "      <td>1.384791</td>\n",
       "    </tr>\n",
       "    <tr>\n",
       "      <th>IL</th>\n",
       "      <td>4.088213</td>\n",
       "      <td>4.062500</td>\n",
       "      <td>0.632941</td>\n",
       "    </tr>\n",
       "    <tr>\n",
       "      <th>NC</th>\n",
       "      <td>3.962582</td>\n",
       "      <td>3.943182</td>\n",
       "      <td>0.491999</td>\n",
       "    </tr>\n",
       "    <tr>\n",
       "      <th>NJ</th>\n",
       "      <td>3.988613</td>\n",
       "      <td>4.050000</td>\n",
       "      <td>-1.515732</td>\n",
       "    </tr>\n",
       "    <tr>\n",
       "      <th>DC</th>\n",
       "      <td>3.938725</td>\n",
       "      <td>4.125000</td>\n",
       "      <td>-4.515746</td>\n",
       "    </tr>\n",
       "    <tr>\n",
       "      <th>WI</th>\n",
       "      <td>3.966912</td>\n",
       "      <td>4.375000</td>\n",
       "      <td>-9.327731</td>\n",
       "    </tr>\n",
       "  </tbody>\n",
       "</table>\n",
       "</div>"
      ],
      "text/plain": [
       "                rate           percent_difference\n",
       "loan_type conforming     jumbo                   \n",
       "state                                            \n",
       "CT          3.942941  3.500000          12.655462\n",
       "PA          4.009077  3.623462          10.642178\n",
       "TX          4.031160  3.654925          10.293920\n",
       "AZ          3.983879  3.612083          10.293122\n",
       "TN          4.161572  3.875000           7.395408\n",
       "GA          4.199757  3.990357           5.247637\n",
       "MI          4.049125  3.870000           4.628540\n",
       "FL          4.107394  3.925714           4.627950\n",
       "CA          3.911182  3.739747           4.584108\n",
       "WA          3.896639  3.773194           3.271628\n",
       "OR          3.940451  3.873333           1.732805\n",
       "CO          3.951155  3.897188           1.384791\n",
       "IL          4.088213  4.062500           0.632941\n",
       "NC          3.962582  3.943182           0.491999\n",
       "NJ          3.988613  4.050000          -1.515732\n",
       "DC          3.938725  4.125000          -4.515746\n",
       "WI          3.966912  4.375000          -9.327731"
      ]
     },
     "execution_count": 66,
     "metadata": {},
     "output_type": "execute_result"
    }
   ],
   "source": [
    "dt =pd.DataFrame(df.groupby(['state','loan_type'])['rate'].mean())\n",
    "dt= dt.unstack()\n",
    "#Drop states that have only 1 loan type\n",
    "dt = dt.dropna()\n",
    "# create a percent diff column (conforming - jumnbo)\n",
    "dt['percent_difference']= (dt.iloc[:,0] - dt.iloc[:,1])*100/(dt.iloc[:,1])\n",
    "dt.sort_values('percent_difference', ascending = False)"
   ]
  },
  {
   "cell_type": "code",
   "execution_count": 67,
   "metadata": {},
   "outputs": [
    {
     "name": "stdout",
     "output_type": "stream",
     "text": [
      "                    loan_type \n",
      "rate                conforming    4.016795\n",
      "                    jumbo         3.810049\n",
      "percent_difference                5.563035\n",
      "dtype: float64\n",
      "                    loan_type \n",
      "rate                conforming    3.964750\n",
      "                    jumbo         4.183333\n",
      "percent_difference               -5.119736\n",
      "dtype: float64\n"
     ]
    }
   ],
   "source": [
    "print(dt.loc[dt['percent_difference']>0].mean())\n",
    "print(dt.loc[dt['percent_difference']<0].mean())"
   ]
  },
  {
   "cell_type": "code",
   "execution_count": 68,
   "metadata": {},
   "outputs": [
    {
     "data": {
      "image/png": "[encoded data removed]",
      "text/plain": [
       "<Figure size 1080x432 with 1 Axes>"
      ]
     },
     "metadata": {},
     "output_type": "display_data"
    }
   ],
   "source": [
    "dt.iloc[:,2].sort_values(ascending = True).plot(kind='barh',color ='#3b2c52',figsize=(15,6))\n",
    "plt.title('Percent Difference between Conforming and Jumbo')\n",
    "plt.xlabel('Percent Difference')\n",
    "dt['percent_difference'].mean()\n",
    "plt.legend(['(conforming - jumbo) / jumbo (%)'],prop={'size': 12})\n",
    "plt.show()"
   ]
  },
  {
   "cell_type": "markdown",
   "metadata": {},
   "source": [
    "### 3.b.4 Findings:\n",
    "> 14 out of 17 states have a **higher** average interest rate of conforming loans than jumbo loans. While WI, NJ, and DC saw a **lower** interest rate in conforming loans.* (Please note: we're only looking at states that provide both loan types)"
   ]
  },
  {
   "cell_type": "markdown",
   "metadata": {},
   "source": [
    "### `3.b.5 Run A/B test to tell if there is a statistical significant difference in interest rates between the two loan types in each state.`"
   ]
  },
  {
   "cell_type": "code",
   "execution_count": 28,
   "metadata": {},
   "outputs": [
    {
     "name": "stdout",
     "output_type": "stream",
     "text": [
      "State: PA 0.0013412447034931098\n",
      "State: TX 1.5434001835921845e-11\n",
      "State: CA 0.0003222320636901088\n",
      "State: AZ 0.002527542761902649\n"
     ]
    },
    {
     "name": "stderr",
     "output_type": "stream",
     "text": [
      "/Users/liuwang/opt/anaconda3/lib/python3.8/site-packages/numpy/core/fromnumeric.py:3583: RuntimeWarning: Degrees of freedom <= 0 for slice\n",
      "  return _methods._var(a, axis=axis, dtype=dtype, out=out, ddof=ddof,\n",
      "/Users/liuwang/opt/anaconda3/lib/python3.8/site-packages/numpy/core/_methods.py:209: RuntimeWarning: invalid value encountered in double_scalars\n",
      "  ret = ret.dtype.type(ret / rcount)\n"
     ]
    }
   ],
   "source": [
    "for i in df['state'].unique():\n",
    "    c = df.loc[(df['loan_type']=='conforming') & (df['state'] ==i)]['rate']\n",
    "    j = df.loc[(df['loan_type']=='jumbo') & (df['state'] == i)]['rate']\n",
    "    t_score, p_value = stats.ttest_ind(c,j,equal_var=False)\n",
    "    if p_value <= 0.01:\n",
    "        print('State:',i,p_value)"
   ]
  },
  {
   "cell_type": "markdown",
   "metadata": {},
   "source": [
    "### 3.b.5 Findings:\n",
    "> We're 99% confidence that there are **significant** differences between loan types in the following states: PA, TX,CA and AZ."
   ]
  },
  {
   "cell_type": "markdown",
   "metadata": {},
   "source": [
    "### 3.b Summary\n",
    ">- On average, conforming loans has a higher interest rate (3.99% vs. 3.78%) than jumbo loans - a 5% difference.\n",
    "- 14 out of 17 states have a higher average interest rate of conforming loans than jumbo loans - approximately 5% diff. While WI, NJ, and DC saw a higher interest rate in Jumbo loans - around 5% diff. \n",
    "- We're 99% confident that there is a significant difference in the average interest rate between the two loan types.\n",
    "- On the state level, we're 99% confident that there is a significant difference in the average interest rate between the two loan types in the states PA, TX, CA, and AZ."
   ]
  },
  {
   "cell_type": "markdown",
   "metadata": {},
   "source": [
    "<a href='#agenda'>Go back to agenda</a>"
   ]
  },
  {
   "cell_type": "markdown",
   "metadata": {},
   "source": [
    "### 3.c. Is there a difference between interest rates in different states? <a id='3c'></a>"
   ]
  },
  {
   "cell_type": "markdown",
   "metadata": {},
   "source": [
    "> ### We'll be exploring the difference as the following order:\n",
    "1. By state \n",
    "2. By state and year\n",
    "3. By state, year, and loan type."
   ]
  },
  {
   "cell_type": "markdown",
   "metadata": {},
   "source": [
    "### ` 3.c.1 Explore and plot interest rate by state`"
   ]
  },
  {
   "cell_type": "code",
   "execution_count": 29,
   "metadata": {},
   "outputs": [
    {
     "data": {
      "text/html": [
       "<div>\n",
       "<style scoped>\n",
       "    .dataframe tbody tr th:only-of-type {\n",
       "        vertical-align: middle;\n",
       "    }\n",
       "\n",
       "    .dataframe tbody tr th {\n",
       "        vertical-align: top;\n",
       "    }\n",
       "\n",
       "    .dataframe thead th {\n",
       "        text-align: right;\n",
       "    }\n",
       "</style>\n",
       "<table border=\"1\" class=\"dataframe\">\n",
       "  <thead>\n",
       "    <tr style=\"text-align: right;\">\n",
       "      <th></th>\n",
       "      <th>mean</th>\n",
       "    </tr>\n",
       "    <tr>\n",
       "      <th>state</th>\n",
       "      <th></th>\n",
       "    </tr>\n",
       "  </thead>\n",
       "  <tbody>\n",
       "    <tr>\n",
       "      <th>AK</th>\n",
       "      <td>4.000000</td>\n",
       "    </tr>\n",
       "    <tr>\n",
       "      <th>AL</th>\n",
       "      <td>4.118151</td>\n",
       "    </tr>\n",
       "    <tr>\n",
       "      <th>AR</th>\n",
       "      <td>3.868590</td>\n",
       "    </tr>\n",
       "    <tr>\n",
       "      <th>AZ</th>\n",
       "      <td>3.974680</td>\n",
       "    </tr>\n",
       "    <tr>\n",
       "      <th>CA</th>\n",
       "      <td>3.901641</td>\n",
       "    </tr>\n",
       "  </tbody>\n",
       "</table>\n",
       "</div>"
      ],
      "text/plain": [
       "           mean\n",
       "state          \n",
       "AK     4.000000\n",
       "AL     4.118151\n",
       "AR     3.868590\n",
       "AZ     3.974680\n",
       "CA     3.901641"
      ]
     },
     "execution_count": 29,
     "metadata": {},
     "output_type": "execute_result"
    }
   ],
   "source": [
    "r_state= df.groupby(['state'])['rate'].agg({'mean'})\n",
    "r_state= pd.DataFrame(r_state)\n",
    "r_state.head()"
   ]
  },
  {
   "cell_type": "code",
   "execution_count": 69,
   "metadata": {},
   "outputs": [
    {
     "name": "stdout",
     "output_type": "stream",
     "text": [
      "standard deviation: [0.18703259] \n",
      "average: [3.93193629] \n",
      "highest: [4.32407407] \n",
      "lowest: [3.45982143]\n"
     ]
    },
    {
     "data": {
      "text/plain": [
       "Text(0.5, 0, 'Interest Rate (%)')"
      ]
     },
     "execution_count": 69,
     "metadata": {},
     "output_type": "execute_result"
    },
    {
     "data": {
      "image/png": "[encoded data removed]",
      "text/plain": [
       "<Figure size 1080x360 with 1 Axes>"
      ]
     },
     "metadata": {},
     "output_type": "display_data"
    },
    {
     "data": {
      "image/png": "[encoded data removed]",
      "text/plain": [
       "<Figure size 576x396 with 1 Axes>"
      ]
     },
     "metadata": {},
     "output_type": "display_data"
    }
   ],
   "source": [
    "# plot interest rate by state\n",
    "r_state.plot(kind='bar',figsize =(15,5),color = '#3b2c52')\n",
    "plt.title('Loan Interest Rate by State')\n",
    "plt.ylabel('Interest Rate (%)')\n",
    "plt.xlabel('States')\n",
    "plt.ylim(3,4.5)\n",
    "\n",
    "\n",
    "#standard deviation,mean,max \n",
    "print('standard deviation:', r_state.std().values,\n",
    "      '\\naverage:',r_state.mean().values,'\\nhighest:',r_state.max().values,'\\nlowest:',r_state.min().values)\n",
    "\n",
    "# plot kde distribution of interest rate \n",
    "r_state.plot(kind = 'kde',color = '#3b2c52')\n",
    "plt.title('Distribution of Avg. Interest Rate by State')\n",
    "plt.xlabel('Interest Rate (%)')"
   ]
  },
  {
   "cell_type": "markdown",
   "metadata": {},
   "source": [
    "### 3.c.1 Findings:\n",
    "> Average interest rate varies across states - MS has the **highest** avg.interest rate of 4.32% and NM has the **lowest** avg. interest rate of 3.45%."
   ]
  },
  {
   "cell_type": "markdown",
   "metadata": {},
   "source": [
    "### `3.c.2 Run A/B test to tell if there is a statistical significant difference in interest rates between each state.`"
   ]
  },
  {
   "cell_type": "code",
   "execution_count": 31,
   "metadata": {},
   "outputs": [
    {
     "data": {
      "text/html": [
       "<div>\n",
       "<style scoped>\n",
       "    .dataframe tbody tr th:only-of-type {\n",
       "        vertical-align: middle;\n",
       "    }\n",
       "\n",
       "    .dataframe tbody tr th {\n",
       "        vertical-align: top;\n",
       "    }\n",
       "\n",
       "    .dataframe thead th {\n",
       "        text-align: right;\n",
       "    }\n",
       "</style>\n",
       "<table border=\"1\" class=\"dataframe\">\n",
       "  <thead>\n",
       "    <tr style=\"text-align: right;\">\n",
       "      <th></th>\n",
       "      <th>loan_amount</th>\n",
       "      <th>rate</th>\n",
       "      <th>state</th>\n",
       "      <th>county_fips</th>\n",
       "      <th>fips</th>\n",
       "      <th>loan_limit</th>\n",
       "      <th>diff</th>\n",
       "      <th>loan_type</th>\n",
       "    </tr>\n",
       "    <tr>\n",
       "      <th>funded_at</th>\n",
       "      <th></th>\n",
       "      <th></th>\n",
       "      <th></th>\n",
       "      <th></th>\n",
       "      <th></th>\n",
       "      <th></th>\n",
       "      <th></th>\n",
       "      <th></th>\n",
       "    </tr>\n",
       "  </thead>\n",
       "  <tbody>\n",
       "    <tr>\n",
       "      <th>2017-05-26</th>\n",
       "      <td>162000.0</td>\n",
       "      <td>3.125</td>\n",
       "      <td>PA</td>\n",
       "      <td>42003</td>\n",
       "      <td>42003</td>\n",
       "      <td>484350.0</td>\n",
       "      <td>-322350.0</td>\n",
       "      <td>conforming</td>\n",
       "    </tr>\n",
       "    <tr>\n",
       "      <th>2019-07-22</th>\n",
       "      <td>210550.0</td>\n",
       "      <td>3.625</td>\n",
       "      <td>NC</td>\n",
       "      <td>37111</td>\n",
       "      <td>37111</td>\n",
       "      <td>484350.0</td>\n",
       "      <td>-273800.0</td>\n",
       "      <td>conforming</td>\n",
       "    </tr>\n",
       "    <tr>\n",
       "      <th>2019-02-14</th>\n",
       "      <td>344250.0</td>\n",
       "      <td>4.500</td>\n",
       "      <td>FL</td>\n",
       "      <td>12011</td>\n",
       "      <td>12011</td>\n",
       "      <td>529000.0</td>\n",
       "      <td>-184750.0</td>\n",
       "      <td>conforming</td>\n",
       "    </tr>\n",
       "    <tr>\n",
       "      <th>2019-09-23</th>\n",
       "      <td>461120.0</td>\n",
       "      <td>3.750</td>\n",
       "      <td>NJ</td>\n",
       "      <td>34039</td>\n",
       "      <td>34039</td>\n",
       "      <td>726525.0</td>\n",
       "      <td>-265405.0</td>\n",
       "      <td>conforming</td>\n",
       "    </tr>\n",
       "    <tr>\n",
       "      <th>2019-08-08</th>\n",
       "      <td>346000.0</td>\n",
       "      <td>3.500</td>\n",
       "      <td>TX</td>\n",
       "      <td>48453</td>\n",
       "      <td>48453</td>\n",
       "      <td>484350.0</td>\n",
       "      <td>-138350.0</td>\n",
       "      <td>conforming</td>\n",
       "    </tr>\n",
       "  </tbody>\n",
       "</table>\n",
       "</div>"
      ],
      "text/plain": [
       "            loan_amount   rate state county_fips   fips  loan_limit      diff  \\\n",
       "funded_at                                                                       \n",
       "2017-05-26     162000.0  3.125    PA       42003  42003    484350.0 -322350.0   \n",
       "2019-07-22     210550.0  3.625    NC       37111  37111    484350.0 -273800.0   \n",
       "2019-02-14     344250.0  4.500    FL       12011  12011    529000.0 -184750.0   \n",
       "2019-09-23     461120.0  3.750    NJ       34039  34039    726525.0 -265405.0   \n",
       "2019-08-08     346000.0  3.500    TX       48453  48453    484350.0 -138350.0   \n",
       "\n",
       "             loan_type  \n",
       "funded_at               \n",
       "2017-05-26  conforming  \n",
       "2019-07-22  conforming  \n",
       "2019-02-14  conforming  \n",
       "2019-09-23  conforming  \n",
       "2019-08-08  conforming  "
      ]
     },
     "execution_count": 31,
     "metadata": {},
     "output_type": "execute_result"
    }
   ],
   "source": [
    "df.head()"
   ]
  },
  {
   "cell_type": "code",
   "execution_count": 32,
   "metadata": {},
   "outputs": [],
   "source": [
    "for i in df['state'].unique():\n",
    "    c = df.loc[df['state'] ==i]['rate']\n",
    "    j = df.loc[df['state'] == i]['rate']\n",
    "    t_score, p_value = stats.ttest_ind(c,j,equal_var=False)\n",
    "    if p_value <= 0.01:\n",
    "        print('State:',i,p_value)"
   ]
  },
  {
   "cell_type": "markdown",
   "metadata": {},
   "source": [
    "### 3.c.2 Findings:\n",
    "> We're 99% confident that the difference in interest rate between each state is **NOT** significant."
   ]
  },
  {
   "cell_type": "markdown",
   "metadata": {},
   "source": [
    "### ` 3.c.3 Explore and plot interest rate by state and year`"
   ]
  },
  {
   "cell_type": "code",
   "execution_count": 33,
   "metadata": {},
   "outputs": [
    {
     "data": {
      "text/html": [
       "<div>\n",
       "<style scoped>\n",
       "    .dataframe tbody tr th:only-of-type {\n",
       "        vertical-align: middle;\n",
       "    }\n",
       "\n",
       "    .dataframe tbody tr th {\n",
       "        vertical-align: top;\n",
       "    }\n",
       "\n",
       "    .dataframe thead tr th {\n",
       "        text-align: left;\n",
       "    }\n",
       "\n",
       "    .dataframe thead tr:last-of-type th {\n",
       "        text-align: right;\n",
       "    }\n",
       "</style>\n",
       "<table border=\"1\" class=\"dataframe\">\n",
       "  <thead>\n",
       "    <tr>\n",
       "      <th></th>\n",
       "      <th colspan=\"3\" halign=\"left\">mean</th>\n",
       "      <th colspan=\"3\" halign=\"left\">count</th>\n",
       "    </tr>\n",
       "    <tr>\n",
       "      <th>funded_at</th>\n",
       "      <th>2017</th>\n",
       "      <th>2018</th>\n",
       "      <th>2019</th>\n",
       "      <th>2017</th>\n",
       "      <th>2018</th>\n",
       "      <th>2019</th>\n",
       "    </tr>\n",
       "    <tr>\n",
       "      <th>state</th>\n",
       "      <th></th>\n",
       "      <th></th>\n",
       "      <th></th>\n",
       "      <th></th>\n",
       "      <th></th>\n",
       "      <th></th>\n",
       "    </tr>\n",
       "  </thead>\n",
       "  <tbody>\n",
       "    <tr>\n",
       "      <th>AK</th>\n",
       "      <td>NaN</td>\n",
       "      <td>NaN</td>\n",
       "      <td>4.000000</td>\n",
       "      <td>NaN</td>\n",
       "      <td>NaN</td>\n",
       "      <td>9.0</td>\n",
       "    </tr>\n",
       "    <tr>\n",
       "      <th>AL</th>\n",
       "      <td>NaN</td>\n",
       "      <td>5.375</td>\n",
       "      <td>4.100694</td>\n",
       "      <td>NaN</td>\n",
       "      <td>1.0</td>\n",
       "      <td>72.0</td>\n",
       "    </tr>\n",
       "  </tbody>\n",
       "</table>\n",
       "</div>"
      ],
      "text/plain": [
       "          mean                  count           \n",
       "funded_at 2017   2018      2019  2017 2018  2019\n",
       "state                                           \n",
       "AK         NaN    NaN  4.000000   NaN  NaN   9.0\n",
       "AL         NaN  5.375  4.100694   NaN  1.0  72.0"
      ]
     },
     "execution_count": 33,
     "metadata": {},
     "output_type": "execute_result"
    }
   ],
   "source": [
    "r_s_year= df.groupby(['state',df.index.year])['rate'].agg({'mean','count'})\n",
    "r_s_year.unstack().head(2)"
   ]
  },
  {
   "cell_type": "code",
   "execution_count": 70,
   "metadata": {},
   "outputs": [
    {
     "name": "stdout",
     "output_type": "stream",
     "text": [
      "std: 2017: 0.1138701440242156 2018: 0.37919056642992854 2018: 0.37919056642992854\n"
     ]
    },
    {
     "data": {
      "image/png": "[encoded data removed]",
      "text/plain": [
       "<Figure size 864x360 with 1 Axes>"
      ]
     },
     "metadata": {},
     "output_type": "display_data"
    },
    {
     "data": {
      "image/png": "[encoded data removed]",
      "text/plain": [
       "<Figure size 864x360 with 1 Axes>"
      ]
     },
     "metadata": {},
     "output_type": "display_data"
    },
    {
     "data": {
      "image/png": "[encoded data removed]",
      "text/plain": [
       "<Figure size 864x360 with 1 Axes>"
      ]
     },
     "metadata": {},
     "output_type": "display_data"
    }
   ],
   "source": [
    "r_s_year= df.groupby(['state',df.index.year])['rate'].mean()\n",
    "r_s_year = pd.DataFrame(r_s_year)\n",
    "rr=r_s_year.unstack() \n",
    "\n",
    "rr_2017= rr.iloc[:,0].dropna().sort_values(ascending = False)\n",
    "rr_2018= rr.iloc[:,1].dropna().sort_values(ascending = False)\n",
    "rr_2019= rr.iloc[:,2].dropna().sort_values(ascending = False)\n",
    "\n",
    "print('std:','2017:',rr_2017.std(),'2018:',rr_2018.std(),'2018:',rr_2018.std())\n",
    "\n",
    "plt.figure()\n",
    "plt.subplot(211)\n",
    "plt.title('Avg.Interest Rate by State in Year 2017')\n",
    "rr_2017.plot(kind='bar',color ='#3b2c52',figsize=(12,5))\n",
    "plt.ylabel('Interest Rate (%)')\n",
    "plt.xlabel('State')\n",
    "plt.ylim(3,6)\n",
    "plt.show()\n",
    "\n",
    "plt.subplot(212)\n",
    "rr_2018.plot(kind='bar',color ='#a19db0',figsize=(12,5))\n",
    "plt.title('Avg.Interest Rate by State in Year 2018')\n",
    "plt.ylabel('Interest Rate (%)')\n",
    "plt.xlabel('State')\n",
    "plt.ylim(3,6)\n",
    "plt.show()\n",
    "\n",
    "plt.subplot(212)\n",
    "plt.title('Avg.Interest Rate by State in Year 2019')\n",
    "rr_2019.plot(kind='bar',color ='#1fd5a8',figsize=(12,5))\n",
    "plt.ylabel('Interest Rate (%)')\n",
    "plt.xlabel('State')\n",
    "plt.ylim(3,6)\n",
    "plt.show()"
   ]
  },
  {
   "cell_type": "markdown",
   "metadata": {},
   "source": [
    "### 3.c.4 Findings\n",
    "> Every year, average interest rate varies across states. We saw the smallest standard deviation in 2017, meaning the variance in interest rate between states is the smallest. "
   ]
  },
  {
   "cell_type": "markdown",
   "metadata": {},
   "source": [
    "### `3.c.5 Run A/B test to tell if there is a statistical significant difference in interest rates every year between each state.`"
   ]
  },
  {
   "cell_type": "code",
   "execution_count": 35,
   "metadata": {},
   "outputs": [],
   "source": [
    "# create segment for each year\n",
    "a_2017 = df.loc[df.index.year ==2017].dropna()\n",
    "b_2018 = df.loc[df.index.year ==2018].dropna()\n",
    "c_2019 = df.loc[df.index.year ==2019].dropna()"
   ]
  },
  {
   "cell_type": "markdown",
   "metadata": {},
   "source": [
    "### `3.c.5.1 Compare 2017 loan interest rate between states`"
   ]
  },
  {
   "cell_type": "code",
   "execution_count": 36,
   "metadata": {},
   "outputs": [
    {
     "name": "stdout",
     "output_type": "stream",
     "text": [
      "There is a significant difference of interest rate between these states: FL CO 0.0024675019616473095\n"
     ]
    }
   ],
   "source": [
    "state_list = a_2017['state'].unique()\n",
    "for i, state in enumerate(state_list):\n",
    "    for j in state_list[i+1:]:\n",
    "        a = a_2017.loc[a_2017['state']== state]['rate']\n",
    "        b = a_2017.loc[a_2017['state']== j]['rate']\n",
    "        t_score, p_value = stats.ttest_ind(a,b,equal_var =False)\n",
    "        if p_value <= 0.01:\n",
    "            print('There is a significant difference of interest rate between these states:',state,j,p_value)"
   ]
  },
  {
   "cell_type": "markdown",
   "metadata": {},
   "source": [
    "### `3.c.5.2 Compare 2018 loan interest rate between states`"
   ]
  },
  {
   "cell_type": "code",
   "execution_count": 37,
   "metadata": {},
   "outputs": [
    {
     "name": "stdout",
     "output_type": "stream",
     "text": [
      "There is a significant difference of interest rate between these states: TX GA 0.0016854777234377465\n",
      "There is a significant difference of interest rate between these states: TX MI 0.009769514823571185\n",
      "There is a significant difference of interest rate between these states: AZ WA 0.008236905380814856\n",
      "There is a significant difference of interest rate between these states: FL WA 0.0008181930740633726\n",
      "There is a significant difference of interest rate between these states: NJ GA 0.002332290726496019\n",
      "There is a significant difference of interest rate between these states: NJ MI 0.006444655709902773\n",
      "There is a significant difference of interest rate between these states: IL WA 0.004876082369294944\n"
     ]
    },
    {
     "name": "stderr",
     "output_type": "stream",
     "text": [
      "/Users/liuwang/opt/anaconda3/lib/python3.8/site-packages/numpy/core/fromnumeric.py:3583: RuntimeWarning: Degrees of freedom <= 0 for slice\n",
      "  return _methods._var(a, axis=axis, dtype=dtype, out=out, ddof=ddof,\n",
      "/Users/liuwang/opt/anaconda3/lib/python3.8/site-packages/numpy/core/_methods.py:209: RuntimeWarning: invalid value encountered in double_scalars\n",
      "  ret = ret.dtype.type(ret / rcount)\n"
     ]
    },
    {
     "name": "stdout",
     "output_type": "stream",
     "text": [
      "There is a significant difference of interest rate between these states: WA TN 0.0016859348395991635\n",
      "There is a significant difference of interest rate between these states: WA GA 2.5414223279981368e-05\n",
      "There is a significant difference of interest rate between these states: WA MI 0.001263087115467024\n",
      "There is a significant difference of interest rate between these states: TN CA 0.00890892724874539\n",
      "There is a significant difference of interest rate between these states: TN PA 0.007020837604154434\n",
      "There is a significant difference of interest rate between these states: CO GA 0.009299701786340323\n",
      "There is a significant difference of interest rate between these states: GA CA 0.0006188104383467121\n",
      "There is a significant difference of interest rate between these states: GA PA 0.0011587013145483696\n",
      "There is a significant difference of interest rate between these states: MI CA 0.005618471648879582\n",
      "There is a significant difference of interest rate between these states: MI PA 0.004355141525139182\n"
     ]
    }
   ],
   "source": [
    "state_list = b_2018['state'].unique()\n",
    "for i, state in enumerate(state_list):\n",
    "    for j in state_list[i+1:]:\n",
    "        a = b_2018.loc[b_2018['state']== state]['rate']\n",
    "        b = b_2018.loc[b_2018['state']== j]['rate']\n",
    "        t_score, p_value = stats.ttest_ind(a,b,equal_var =False)\n",
    "        if p_value <= 0.01:\n",
    "            print('There is a significant difference of interest rate between these states:',state,j,p_value)"
   ]
  },
  {
   "cell_type": "markdown",
   "metadata": {},
   "source": [
    "### `3.c.5.2 Compare 2019 loan interest rate between states`"
   ]
  },
  {
   "cell_type": "code",
   "execution_count": 38,
   "metadata": {},
   "outputs": [
    {
     "name": "stdout",
     "output_type": "stream",
     "text": [
      "There is a significant difference of interest rate between these states: NC FL 6.238147434722862e-05\n",
      "There is a significant difference of interest rate between these states: NC GA 5.290813063027532e-07\n",
      "There is a significant difference of interest rate between these states: NC IL 0.002442159855415095\n",
      "There is a significant difference of interest rate between these states: NC TN 0.0002898728871630279\n",
      "There is a significant difference of interest rate between these states: NC LA 0.007853578545457714\n",
      "There is a significant difference of interest rate between these states: NC AL 0.00024702726515263296\n",
      "There is a significant difference of interest rate between these states: NC NM 0.00020852405697236595\n",
      "There is a significant difference of interest rate between these states: FL NJ 0.0006279225813086378\n",
      "There is a significant difference of interest rate between these states: FL TX 0.0009545626434623632\n",
      "There is a significant difference of interest rate between these states: FL CA 1.883674997072342e-08\n",
      "There is a significant difference of interest rate between these states: FL WA 1.1538572489525237e-10\n",
      "There is a significant difference of interest rate between these states: FL OR 1.3412548459346593e-05\n",
      "There is a significant difference of interest rate between these states: FL CO 0.00045642252900555806\n",
      "There is a significant difference of interest rate between these states: FL CT 0.0005082331992361753\n",
      "There is a significant difference of interest rate between these states: FL NM 1.285451620101757e-06\n",
      "There is a significant difference of interest rate between these states: FL RI 0.0017077626265540788\n",
      "There is a significant difference of interest rate between these states: FL NE 0.0014827328710372342\n",
      "There is a significant difference of interest rate between these states: NJ GA 7.2506591307299455e-06\n",
      "There is a significant difference of interest rate between these states: NJ IL 0.007834179254310252\n",
      "There is a significant difference of interest rate between these states: NJ TN 0.0009116535332330649\n",
      "There is a significant difference of interest rate between these states: NJ AL 0.0004775382604071762\n",
      "There is a significant difference of interest rate between these states: NJ NM 0.0001410922223339313\n",
      "There is a significant difference of interest rate between these states: TX GA 8.314271693296743e-06\n",
      "There is a significant difference of interest rate between these states: TX WA 0.0003436682745731848\n",
      "There is a significant difference of interest rate between these states: TX TN 0.001946893056425495\n",
      "There is a significant difference of interest rate between these states: TX AL 0.0009183230180444043\n",
      "There is a significant difference of interest rate between these states: TX NM 5.113828461877063e-05\n",
      "There is a significant difference of interest rate between these states: TX NE 0.00838282508255795\n",
      "There is a significant difference of interest rate between these states: CA GA 2.3373706238549195e-10\n",
      "There is a significant difference of interest rate between these states: CA AZ 0.007660645532808173\n",
      "There is a significant difference of interest rate between these states: CA IL 0.00013466467916377413\n",
      "There is a significant difference of interest rate between these states: CA TN 2.2901900061356097e-05\n",
      "There is a significant difference of interest rate between these states: CA LA 0.003904882959542074\n",
      "There is a significant difference of interest rate between these states: CA AL 7.43595125800051e-05\n",
      "There is a significant difference of interest rate between these states: CA NM 0.00033894680372580386\n",
      "There is a significant difference of interest rate between these states: GA WA 1.6304332358216356e-12\n",
      "There is a significant difference of interest rate between these states: GA AZ 0.0002933826314127166\n",
      "There is a significant difference of interest rate between these states: GA OR 1.319441050019539e-07\n",
      "There is a significant difference of interest rate between these states: GA PA 0.00043251883233478\n",
      "There is a significant difference of interest rate between these states: GA CO 4.017389538342244e-06\n",
      "There is a significant difference of interest rate between these states: GA CT 1.9716082728953095e-05\n",
      "There is a significant difference of interest rate between these states: GA NM 1.384264763052329e-07\n",
      "There is a significant difference of interest rate between these states: GA RI 0.00036932295122366803\n",
      "There is a significant difference of interest rate between these states: GA NE 0.0005200805069242814\n",
      "There is a significant difference of interest rate between these states: WA AZ 0.00013813666583480357\n",
      "There is a significant difference of interest rate between these states: WA IL 3.5978789263988237e-06\n",
      "There is a significant difference of interest rate between these states: WA MI 0.008682933709003424\n",
      "There is a significant difference of interest rate between these states: WA PA 0.0057883217516343085\n",
      "There is a significant difference of interest rate between these states: WA TN 9.207627593804127e-07\n",
      "There is a significant difference of interest rate between these states: WA CO 0.0024837526789674973\n",
      "There is a significant difference of interest rate between these states: WA LA 0.0010466962094121265\n",
      "There is a significant difference of interest rate between these states: WA KY 0.004165337571127452\n",
      "There is a significant difference of interest rate between these states: WA WI 0.003501307625196225\n",
      "There is a significant difference of interest rate between these states: WA AL 1.08020749851287e-05\n",
      "There is a significant difference of interest rate between these states: WA NM 0.0018025395436534802\n",
      "There is a significant difference of interest rate between these states: WA OK 0.006363237797540861\n",
      "There is a significant difference of interest rate between these states: AZ TN 0.008923391247416644\n",
      "There is a significant difference of interest rate between these states: AZ AL 0.002383813472793293\n",
      "There is a significant difference of interest rate between these states: AZ NM 2.6287626579345074e-05\n",
      "There is a significant difference of interest rate between these states: AZ NE 0.005939367488120122\n",
      "There is a significant difference of interest rate between these states: IL OR 0.0004888956612663075\n",
      "There is a significant difference of interest rate between these states: IL CO 0.009871563512992516\n",
      "There is a significant difference of interest rate between these states: IL CT 0.0017922018793309702\n",
      "There is a significant difference of interest rate between these states: IL NM 1.7569110079300675e-06\n",
      "There is a significant difference of interest rate between these states: IL RI 0.0020198491989278527\n",
      "There is a significant difference of interest rate between these states: IL NE 0.001467700894636421\n",
      "There is a significant difference of interest rate between these states: MS NM 0.0025811710125747773\n",
      "There is a significant difference of interest rate between these states: MS NE 0.005290949124922392\n",
      "There is a significant difference of interest rate between these states: OR TN 6.085698123364081e-05\n",
      "There is a significant difference of interest rate between these states: OR LA 0.003335900912169752\n",
      "There is a significant difference of interest rate between these states: OR AL 7.633351633731897e-05\n",
      "There is a significant difference of interest rate between these states: OR NM 0.0008249612527971091\n",
      "There is a significant difference of interest rate between these states: MI AL 0.006561841158995349\n",
      "There is a significant difference of interest rate between these states: MI NM 4.157223404175646e-05\n",
      "There is a significant difference of interest rate between these states: MI NE 0.005764054029473144\n",
      "There is a significant difference of interest rate between these states: PA TN 0.007031364359772715\n",
      "There is a significant difference of interest rate between these states: PA AL 0.001800324273980102\n",
      "There is a significant difference of interest rate between these states: PA NM 5.777916410038613e-05\n",
      "There is a significant difference of interest rate between these states: PA NE 0.00799173967065191\n",
      "There is a significant difference of interest rate between these states: TN CO 0.0011287314121044664\n",
      "There is a significant difference of interest rate between these states: TN CT 0.0002392171996763973\n",
      "There is a significant difference of interest rate between these states: TN NM 2.6385811086768764e-07\n",
      "There is a significant difference of interest rate between these states: TN RI 0.0005007743553527464\n",
      "There is a significant difference of interest rate between these states: TN NE 0.0005100325154579745\n"
     ]
    },
    {
     "name": "stdout",
     "output_type": "stream",
     "text": [
      "There is a significant difference of interest rate between these states: CO AL 0.000623972669855222\n",
      "There is a significant difference of interest rate between these states: CO NM 7.928392912744585e-05\n",
      "There is a significant difference of interest rate between these states: LA CT 0.002629574463353881\n",
      "There is a significant difference of interest rate between these states: LA NM 4.018375815136117e-06\n",
      "There is a significant difference of interest rate between these states: LA RI 0.0007700336180126743\n",
      "There is a significant difference of interest rate between these states: LA NE 0.00035444187877658665\n",
      "There is a significant difference of interest rate between these states: CT AL 9.321368798813168e-05\n",
      "There is a significant difference of interest rate between these states: CT NM 0.0051087242703706385\n",
      "There is a significant difference of interest rate between these states: DE NM 0.008923394934475483\n",
      "There is a significant difference of interest rate between these states: KY NM 1.4227594184897175e-05\n",
      "There is a significant difference of interest rate between these states: KY RI 0.0029943019939079104\n",
      "There is a significant difference of interest rate between these states: KY NE 0.0012130347036717708\n",
      "There is a significant difference of interest rate between these states: MD AL 0.006663614259680648\n",
      "There is a significant difference of interest rate between these states: KS NM 0.00028601314621306135\n",
      "There is a significant difference of interest rate between these states: KS NE 0.0062156956548377225\n",
      "There is a significant difference of interest rate between these states: WI NM 1.1325080781921299e-05\n",
      "There is a significant difference of interest rate between these states: WI RI 0.0035337163605267783\n",
      "There is a significant difference of interest rate between these states: WI NE 0.001484753608211067\n",
      "There is a significant difference of interest rate between these states: AL NM 7.245504394251612e-08\n",
      "There is a significant difference of interest rate between these states: AL RI 8.051619055346529e-05\n",
      "There is a significant difference of interest rate between these states: AL NE 8.244453492175094e-05\n",
      "There is a significant difference of interest rate between these states: IA NM 0.0044636404333122095\n",
      "There is a significant difference of interest rate between these states: NM OK 2.838765055202724e-05\n",
      "There is a significant difference of interest rate between these states: NM AR 0.0006197230397724514\n",
      "There is a significant difference of interest rate between these states: NM DC 0.00023336155852716876\n",
      "There is a significant difference of interest rate between these states: RI OK 0.003020114083848769\n",
      "There is a significant difference of interest rate between these states: OK NE 0.0010876600778139608\n",
      "There is a significant difference of interest rate between these states: AR NE 0.009689601471632033\n",
      "There is a significant difference of interest rate between these states: DC NE 0.00476343926670092\n"
     ]
    }
   ],
   "source": [
    "state_list = c_2019['state'].unique()\n",
    "for i, state in enumerate(state_list):\n",
    "    for j in state_list[i+1:]:\n",
    "        a = c_2019.loc[c_2019['state']== state]['rate']\n",
    "        b = c_2019.loc[c_2019['state']== j]['rate']\n",
    "        t_score, p_value = stats.ttest_ind(a,b,equal_var =False)\n",
    "        if p_value <= 0.01:\n",
    "            print('There is a significant difference of interest rate between these states:',state,j,p_value)"
   ]
  },
  {
   "cell_type": "markdown",
   "metadata": {},
   "source": [
    "### 3.c.5 Findings:\n",
    "> We saw an increasing number of pairs of states that show a significant difference in the interest rate from 2017 to 2019. "
   ]
  },
  {
   "cell_type": "markdown",
   "metadata": {},
   "source": [
    "### `3.c.6 Explore interest rate by state, year and loan type.`"
   ]
  },
  {
   "cell_type": "markdown",
   "metadata": {},
   "source": [
    "### `3.c.6.1 Run A/B test Run to test if there is a statistical significant difference in interest rates between the two loan types every year in each state.`"
   ]
  },
  {
   "cell_type": "code",
   "execution_count": 39,
   "metadata": {},
   "outputs": [],
   "source": [
    "# create segments by year and loan type`\n",
    "c_2017 = df.loc[(df['loan_type']=='conforming')& (df.index.year ==2017)].dropna()\n",
    "j_2017 = df.loc[(df['loan_type']=='jumbo')& (df.index.year ==2017)].dropna()\n",
    "c_2018 = df.loc[(df['loan_type']=='conforming')& (df.index.year ==2018)].dropna()\n",
    "j_2018 = df.loc[(df['loan_type']=='jumbo')& (df.index.year ==2018)].dropna()\n",
    "c_2019 = df.loc[(df['loan_type']=='conforming')& (df.index.year ==2019)].dropna()\n",
    "j_2019 = df.loc[(df['loan_type']=='jumbo')& (df.index.year ==2019)].dropna()"
   ]
  },
  {
   "cell_type": "markdown",
   "metadata": {},
   "source": [
    "### `3.c.6.2 Compare 2017 conforming loan interest rate between states`"
   ]
  },
  {
   "cell_type": "code",
   "execution_count": 40,
   "metadata": {},
   "outputs": [
    {
     "name": "stdout",
     "output_type": "stream",
     "text": [
      "There is a significant difference of interest rate between these states: FL & CO \n",
      "with p values 0.0024675019616473095\n"
     ]
    }
   ],
   "source": [
    "state_list = c_2017['state'].unique()\n",
    "\n",
    "for i, state in enumerate(state_list):\n",
    "    for j in state_list[i+1:]:\n",
    "        a = c_2017.loc[c_2017['state']== state]['rate']\n",
    "        b = c_2017.loc[c_2017['state']== j]['rate']\n",
    "        t_score, p_value = stats.ttest_ind(a,b,equal_var =False)\n",
    "        if p_value <= 0.01:\n",
    "            print('There is a significant difference of interest rate between these states:',state,'&',j,\n",
    "                  '\\nwith p values',p_value)"
   ]
  },
  {
   "cell_type": "markdown",
   "metadata": {},
   "source": [
    "### `3.c.6.3 Compare 2017 jumbo loan interest rate between state` "
   ]
  },
  {
   "cell_type": "code",
   "execution_count": 41,
   "metadata": {},
   "outputs": [],
   "source": [
    "state_list = j_2017['state'].unique()\n",
    "for i, state in enumerate(state_list):\n",
    "    for j in state_list[i+1:]:\n",
    "        a = j_2017.loc[j_2017['state']== state]['rate']\n",
    "        b = j_2017.loc[j_2017['state']== j]['rate']\n",
    "        t_score, p_value = stats.ttest_ind(a,b,equal_var =False)\n",
    "        if p_value <= 0.01:\n",
    "            print(state,j,p_value)"
   ]
  },
  {
   "cell_type": "markdown",
   "metadata": {},
   "source": [
    "`no significant pair of state`"
   ]
  },
  {
   "cell_type": "markdown",
   "metadata": {},
   "source": [
    "### `3.c.6.3 Compare 2018 conforming loan interest rate between states` "
   ]
  },
  {
   "cell_type": "code",
   "execution_count": 42,
   "metadata": {},
   "outputs": [
    {
     "name": "stdout",
     "output_type": "stream",
     "text": [
      "There is a significant difference of interest rate between these states: TX GA 0.003972878138841825\n",
      "There is a significant difference of interest rate between these states: FL WA 0.002732252156419184\n",
      "There is a significant difference of interest rate between these states: NJ GA 0.0035366282205118423\n",
      "There is a significant difference of interest rate between these states: NJ MI 0.007510389007442566\n",
      "There is a significant difference of interest rate between these states: IL WA 0.009581889172877214\n",
      "There is a significant difference of interest rate between these states: WA TN 0.003585580498570645\n",
      "There is a significant difference of interest rate between these states: WA GA 0.0001308893042837242\n",
      "There is a significant difference of interest rate between these states: WA MI 0.002126919017115973\n",
      "There is a significant difference of interest rate between these states: TN PA 0.007804542026130435\n",
      "There is a significant difference of interest rate between these states: GA CA 0.0011629599499929336\n",
      "There is a significant difference of interest rate between these states: GA PA 0.0012632096470886669\n",
      "There is a significant difference of interest rate between these states: MI CA 0.006579824773904197\n",
      "There is a significant difference of interest rate between these states: MI PA 0.004261548169972513\n"
     ]
    }
   ],
   "source": [
    "state_list = c_2018['state'].unique()\n",
    "for i, state in enumerate(state_list):\n",
    "    for j in state_list[i+1:]:\n",
    "        a = c_2018.loc[c_2018['state']== state]['rate']\n",
    "        b = c_2018.loc[c_2018['state']== j]['rate']\n",
    "        t_score, p_value = stats.ttest_ind(a,b,equal_var =False)\n",
    "        if p_value <= 0.01:\n",
    "            print('There is a significant difference of interest rate between these states:',state,j,p_value)"
   ]
  },
  {
   "cell_type": "markdown",
   "metadata": {},
   "source": [
    "### `3.c.6.4 Compare 2018 jumbo loan interest rate between states` "
   ]
  },
  {
   "cell_type": "code",
   "execution_count": 43,
   "metadata": {},
   "outputs": [],
   "source": [
    "state_list = j_2018['state'].unique()\n",
    "for i, state in enumerate(state_list):\n",
    "    for j in state_list[i+1:]:\n",
    "        a = j_2018.loc[j_2018['state']== state]['rate']\n",
    "        b = j_2018.loc[j_2018['state']== j]['rate']\n",
    "        t_score, p_value = stats.ttest_ind(a,b,equal_var =False)\n",
    "        if p_value <= 0.01:\n",
    "            print(state,j,p_value)"
   ]
  },
  {
   "cell_type": "markdown",
   "metadata": {},
   "source": [
    "`no significant pair of state`"
   ]
  },
  {
   "cell_type": "markdown",
   "metadata": {},
   "source": [
    "### `3.c.6.5 Compare 2019 conforming loan interest rate between states` "
   ]
  },
  {
   "cell_type": "code",
   "execution_count": 44,
   "metadata": {},
   "outputs": [
    {
     "name": "stdout",
     "output_type": "stream",
     "text": [
      "There is a significant difference of interest rate between these states: NC FL 9.217757120190425e-05\n",
      "There is a significant difference of interest rate between these states: NC GA 4.316237133537607e-07\n",
      "There is a significant difference of interest rate between these states: NC IL 0.0038109078709452414\n",
      "There is a significant difference of interest rate between these states: NC TN 0.000249608982706655\n",
      "There is a significant difference of interest rate between these states: NC LA 0.008442376039687699\n",
      "There is a significant difference of interest rate between these states: NC AL 0.00027733137783010674\n",
      "There is a significant difference of interest rate between these states: NC NM 0.00019366690215225175\n",
      "There is a significant difference of interest rate between these states: FL NJ 0.0005017760089339131\n",
      "There is a significant difference of interest rate between these states: FL TX 0.009009295694220121\n",
      "There is a significant difference of interest rate between these states: FL CA 4.0025742292012123e-07\n",
      "There is a significant difference of interest rate between these states: FL WA 1.174553057074189e-09\n",
      "There is a significant difference of interest rate between these states: FL OR 1.2618084666929561e-05\n",
      "There is a significant difference of interest rate between these states: FL CO 0.0007023496040473153\n",
      "There is a significant difference of interest rate between these states: FL CT 0.001427242336392003\n",
      "There is a significant difference of interest rate between these states: FL NM 1.2490170203215809e-06\n",
      "There is a significant difference of interest rate between these states: FL RI 0.0016745746934473552\n",
      "There is a significant difference of interest rate between these states: FL NE 0.0014616407513247502\n",
      "There is a significant difference of interest rate between these states: NJ GA 3.1994548151970717e-06\n",
      "There is a significant difference of interest rate between these states: NJ IL 0.008346696087184437\n",
      "There is a significant difference of interest rate between these states: NJ TN 0.0005668151026708248\n",
      "There is a significant difference of interest rate between these states: NJ AL 0.00043476336764269397\n",
      "There is a significant difference of interest rate between these states: NJ NM 0.00015569344013710224\n",
      "There is a significant difference of interest rate between these states: TX GA 6.239698950704654e-05\n",
      "There is a significant difference of interest rate between these states: TX WA 0.00014691254304365588\n",
      "There is a significant difference of interest rate between these states: TX TN 0.004943569019166059\n",
      "There is a significant difference of interest rate between these states: TX AL 0.002072406341054257\n",
      "There is a significant difference of interest rate between these states: TX NM 2.5249166899289516e-05\n",
      "There is a significant difference of interest rate between these states: TX NE 0.005971387653611808\n",
      "There is a significant difference of interest rate between these states: CA GA 1.6929459195484037e-09\n",
      "There is a significant difference of interest rate between these states: CA IL 0.0007212713987173877\n",
      "There is a significant difference of interest rate between these states: CA TN 5.0914747739508665e-05\n",
      "There is a significant difference of interest rate between these states: CA LA 0.005898607377542601\n",
      "There is a significant difference of interest rate between these states: CA AL 0.00014054775654008867\n",
      "There is a significant difference of interest rate between these states: CA NM 0.00020978850388619438\n",
      "There is a significant difference of interest rate between these states: GA WA 6.0187451175300195e-12\n",
      "There is a significant difference of interest rate between these states: GA AZ 0.0004805836063589769\n",
      "There is a significant difference of interest rate between these states: GA OR 7.222630048625054e-08\n",
      "There is a significant difference of interest rate between these states: GA MI 0.009032268935906747\n",
      "There is a significant difference of interest rate between these states: GA PA 0.0008629459389111797\n",
      "There is a significant difference of interest rate between these states: GA CO 3.533593088250877e-06\n",
      "There is a significant difference of interest rate between these states: GA CT 4.563251619071877e-05\n",
      "There is a significant difference of interest rate between these states: GA NM 1.0547765592235652e-07\n",
      "There is a significant difference of interest rate between these states: GA RI 0.0003063844802287204\n",
      "There is a significant difference of interest rate between these states: GA NE 0.0004592439160672175\n",
      "There is a significant difference of interest rate between these states: WA AZ 0.0001796032160086189\n",
      "There is a significant difference of interest rate between these states: WA IL 1.6244777602183242e-05\n",
      "There is a significant difference of interest rate between these states: WA PA 0.005814510435153433\n",
      "There is a significant difference of interest rate between these states: WA TN 1.5582081128278652e-06\n",
      "There is a significant difference of interest rate between these states: WA CO 0.006058273809047944\n",
      "There is a significant difference of interest rate between these states: WA LA 0.001406646558679306\n",
      "There is a significant difference of interest rate between these states: WA KY 0.005728879894239964\n",
      "There is a significant difference of interest rate between these states: WA WI 0.007091641050628057\n",
      "There is a significant difference of interest rate between these states: WA AL 1.7080429489826017e-05\n",
      "There is a significant difference of interest rate between these states: WA NM 0.001335742991174518\n",
      "There is a significant difference of interest rate between these states: WA OK 0.00821495818203987\n",
      "There is a significant difference of interest rate between these states: AZ OR 0.009825895092000941\n",
      "There is a significant difference of interest rate between these states: AZ AL 0.0034972978896498216\n",
      "There is a significant difference of interest rate between these states: AZ NM 1.8433978122223032e-05\n",
      "There is a significant difference of interest rate between these states: AZ NE 0.005010869144647497\n",
      "There is a significant difference of interest rate between these states: IL OR 0.0005346399509734647\n",
      "There is a significant difference of interest rate between these states: IL CT 0.004795297353163541\n",
      "There is a significant difference of interest rate between these states: IL NM 1.933971251584028e-06\n",
      "There is a significant difference of interest rate between these states: IL RI 0.0021430718072136296\n",
      "There is a significant difference of interest rate between these states: IL NE 0.0015175622424239994\n",
      "There is a significant difference of interest rate between these states: MS NM 0.0025811710125747773\n",
      "There is a significant difference of interest rate between these states: MS NE 0.005290949124922392\n",
      "There is a significant difference of interest rate between these states: OR TN 3.603722562656214e-05\n",
      "There is a significant difference of interest rate between these states: OR LA 0.0029377743481441123\n",
      "There is a significant difference of interest rate between these states: OR AL 6.506765160021696e-05\n",
      "There is a significant difference of interest rate between these states: OR NM 0.0010402823920058234\n",
      "There is a significant difference of interest rate between these states: MI AL 0.006631969692630481\n",
      "There is a significant difference of interest rate between these states: MI NM 4.269572263199814e-05\n",
      "There is a significant difference of interest rate between these states: MI NE 0.005799271168399999\n",
      "There is a significant difference of interest rate between these states: PA AL 0.002936467552885815\n",
      "There is a significant difference of interest rate between these states: PA NM 3.793357214817852e-05\n",
      "There is a significant difference of interest rate between these states: PA NE 0.006475512633609035\n",
      "There is a significant difference of interest rate between these states: TN CO 0.0010045696277239586\n",
      "There is a significant difference of interest rate between these states: TN CT 0.0004407476890538382\n",
      "There is a significant difference of interest rate between these states: TN NM 2.0363863528530488e-07\n",
      "There is a significant difference of interest rate between these states: TN RI 0.0004156308172525054\n",
      "There is a significant difference of interest rate between these states: TN NE 0.00044636810100698266\n",
      "There is a significant difference of interest rate between these states: CO AL 0.0007139692073742591\n",
      "There is a significant difference of interest rate between these states: CO NM 7.21236789946483e-05\n",
      "There is a significant difference of interest rate between these states: CO NE 0.00971820237987423\n",
      "There is a significant difference of interest rate between these states: LA CT 0.004149596447462258\n"
     ]
    },
    {
     "name": "stdout",
     "output_type": "stream",
     "text": [
      "There is a significant difference of interest rate between these states: LA NM 4.018375815136117e-06\n",
      "There is a significant difference of interest rate between these states: LA RI 0.0007700336180126743\n",
      "There is a significant difference of interest rate between these states: LA NE 0.00035444187877658665\n",
      "There is a significant difference of interest rate between these states: CT AL 0.00018327879496164842\n",
      "There is a significant difference of interest rate between these states: CT NM 0.0033926073010702\n",
      "There is a significant difference of interest rate between these states: DE NM 0.008923394934475483\n",
      "There is a significant difference of interest rate between these states: KY NM 1.4227594184897175e-05\n",
      "There is a significant difference of interest rate between these states: KY RI 0.0029943019939079104\n",
      "There is a significant difference of interest rate between these states: KY NE 0.0012130347036717708\n",
      "There is a significant difference of interest rate between these states: MD AL 0.006663614259680648\n",
      "There is a significant difference of interest rate between these states: KS NM 0.00028601314621306135\n",
      "There is a significant difference of interest rate between these states: KS NE 0.0062156956548377225\n",
      "There is a significant difference of interest rate between these states: WI NM 1.545644351319335e-05\n",
      "There is a significant difference of interest rate between these states: WI RI 0.004271852702985619\n",
      "There is a significant difference of interest rate between these states: WI NE 0.0017054170443425304\n",
      "There is a significant difference of interest rate between these states: AL NM 7.245504394251612e-08\n",
      "There is a significant difference of interest rate between these states: AL RI 8.051619055346529e-05\n",
      "There is a significant difference of interest rate between these states: AL NE 8.244453492175094e-05\n",
      "There is a significant difference of interest rate between these states: IA NM 0.0044636404333122095\n",
      "There is a significant difference of interest rate between these states: NM OK 2.838765055202724e-05\n",
      "There is a significant difference of interest rate between these states: NM AR 0.0006197230397724514\n",
      "There is a significant difference of interest rate between these states: NM DC 0.00040104196676114085\n",
      "There is a significant difference of interest rate between these states: RI OK 0.003020114083848769\n",
      "There is a significant difference of interest rate between these states: OK NE 0.0010876600778139608\n",
      "There is a significant difference of interest rate between these states: AR NE 0.009689601471632033\n",
      "There is a significant difference of interest rate between these states: DC NE 0.006311784068586975\n"
     ]
    }
   ],
   "source": [
    "state_list = c_2019['state'].unique()\n",
    "for i, state in enumerate(state_list):\n",
    "    for j in state_list[i+1:]:\n",
    "        a = c_2019.loc[c_2019['state']== state]['rate']\n",
    "        b = c_2019.loc[c_2019['state']== j]['rate']\n",
    "        t_score, p_value = stats.ttest_ind(a,b,equal_var =False)\n",
    "        if p_value <= 0.01:\n",
    "            print('There is a significant difference of interest rate between these states:',state,j,p_value)"
   ]
  },
  {
   "cell_type": "markdown",
   "metadata": {},
   "source": [
    "### `3.c.6.6Compare 2019 jumbo loan interest rate between states` "
   ]
  },
  {
   "cell_type": "code",
   "execution_count": 45,
   "metadata": {},
   "outputs": [
    {
     "name": "stdout",
     "output_type": "stream",
     "text": [
      "There is a significant difference of interest rate between these states: OR CT 0.0030620468142053344\n",
      "There is a significant difference of interest rate between these states: CT CO 0.008587306931422959\n",
      "There is a significant difference of interest rate between these states: CT FL 0.009087715274439507\n",
      "There is a significant difference of interest rate between these states: CT NJ 0.006853230264848244\n"
     ]
    }
   ],
   "source": [
    "state_list = j_2019['state'].unique()\n",
    "for i, state in enumerate(state_list):\n",
    "    for j in state_list[i+1:]:\n",
    "        a = j_2019.loc[j_2019['state']== state]['rate']\n",
    "        b = j_2019.loc[j_2019['state']== j]['rate']\n",
    "        t_score, p_value = stats.ttest_ind(a,b,equal_var =False)\n",
    "        if p_value <= 0.01:\n",
    "            print('There is a significant difference of interest rate between these states:',state,j,p_value)"
   ]
  },
  {
   "cell_type": "markdown",
   "metadata": {},
   "source": [
    "### 3.c. Summary\n",
    ">- The average interest rate varies across states - MS has the highest avg.interest rate of 4.3%, and NM has the lowest avg. interest rate of 3.5%.\n",
    "- Every year, the average interest rate varies across states. We saw the smallest standard deviation in 2017, meaning - the lowest variance in the interest rate between states.\n",
    "- We saw an increasing number of pairs of states that show a significant difference in the interest rate from 2017 to 2019. Meaning, the difference between states has been increasing year over year.\n",
    "- We're 99% confident that there is NO significant difference in jumbo loan interest rates between states in 2017 and 2018."
   ]
  },
  {
   "cell_type": "markdown",
   "metadata": {},
   "source": [
    "<a href='#agenda'>Go back to agenda</a>"
   ]
  }
 ],
 "metadata": {
  "kernelspec": {
   "display_name": "Python 3",
   "language": "python",
   "name": "python3"
  },
  "language_info": {
   "codemirror_mode": {
    "name": "ipython",
    "version": 3
   },
   "file_extension": ".py",
   "mimetype": "text/x-python",
   "name": "python",
   "nbconvert_exporter": "python",
   "pygments_lexer": "ipython3",
   "version": "3.6.9"
  },
  "toc": {
   "base_numbering": 1,
   "nav_menu": {
    "height": "717px",
    "width": "633px"
   },
   "number_sections": true,
   "sideBar": true,
   "skip_h1_title": false,
   "title_cell": "Table of Contents",
   "title_sidebar": "Contents",
   "toc_cell": false,
   "toc_position": {},
   "toc_section_display": true,
   "toc_window_display": false
  }
 },
 "nbformat": 4,
 "nbformat_minor": 4
}
